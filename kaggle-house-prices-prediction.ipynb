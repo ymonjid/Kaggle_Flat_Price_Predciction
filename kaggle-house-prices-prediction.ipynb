{
 "cells": [
  {
   "cell_type": "markdown",
   "id": "39f3b7ca",
   "metadata": {
    "execution": {
     "iopub.execute_input": "2022-03-31T11:39:15.117207Z",
     "iopub.status.busy": "2022-03-31T11:39:15.116894Z",
     "iopub.status.idle": "2022-03-31T11:39:15.121224Z",
     "shell.execute_reply": "2022-03-31T11:39:15.120509Z",
     "shell.execute_reply.started": "2022-03-31T11:39:15.117176Z"
    },
    "papermill": {
     "duration": 0.094971,
     "end_time": "2022-03-31T15:13:29.809820",
     "exception": false,
     "start_time": "2022-03-31T15:13:29.714849",
     "status": "completed"
    },
    "tags": []
   },
   "source": [
    "### 1) Import libraries and define DataFrames"
   ]
  },
  {
   "cell_type": "code",
   "execution_count": 1,
   "id": "f901d18d",
   "metadata": {
    "execution": {
     "iopub.execute_input": "2022-03-31T15:13:30.013503Z",
     "iopub.status.busy": "2022-03-31T15:13:30.012775Z",
     "iopub.status.idle": "2022-03-31T15:13:31.201325Z",
     "shell.execute_reply": "2022-03-31T15:13:31.200519Z",
     "shell.execute_reply.started": "2022-03-31T14:57:51.476514Z"
    },
    "papermill": {
     "duration": 1.294458,
     "end_time": "2022-03-31T15:13:31.201477",
     "exception": false,
     "start_time": "2022-03-31T15:13:29.907019",
     "status": "completed"
    },
    "tags": []
   },
   "outputs": [],
   "source": [
    "import pandas as pd\n",
    "import matplotlib.pyplot as plt\n",
    "import seaborn as sns\n",
    "import numpy as np"
   ]
  },
  {
   "cell_type": "code",
   "execution_count": 2,
   "id": "9499ac80",
   "metadata": {
    "execution": {
     "iopub.execute_input": "2022-03-31T15:13:31.389921Z",
     "iopub.status.busy": "2022-03-31T15:13:31.389248Z",
     "iopub.status.idle": "2022-03-31T15:13:31.477139Z",
     "shell.execute_reply": "2022-03-31T15:13:31.476589Z",
     "shell.execute_reply.started": "2022-03-31T14:57:52.208015Z"
    },
    "papermill": {
     "duration": 0.183422,
     "end_time": "2022-03-31T15:13:31.477286",
     "exception": false,
     "start_time": "2022-03-31T15:13:31.293864",
     "status": "completed"
    },
    "tags": []
   },
   "outputs": [],
   "source": [
    "train_file = \"/kaggle/input/house-prices-advanced-regression-techniques/train.csv\"\n",
    "test_file = \"/kaggle/input/house-prices-advanced-regression-techniques/test.csv\"\n",
    "df_train = pd.read_csv(train_file)\n",
    "df_test = pd.read_csv(test_file)"
   ]
  },
  {
   "cell_type": "code",
   "execution_count": 3,
   "id": "460b6600",
   "metadata": {
    "execution": {
     "iopub.execute_input": "2022-03-31T15:13:31.664624Z",
     "iopub.status.busy": "2022-03-31T15:13:31.663803Z",
     "iopub.status.idle": "2022-03-31T15:13:31.692547Z",
     "shell.execute_reply": "2022-03-31T15:13:31.693069Z",
     "shell.execute_reply.started": "2022-03-31T14:57:53.111782Z"
    },
    "papermill": {
     "duration": 0.123861,
     "end_time": "2022-03-31T15:13:31.693248",
     "exception": false,
     "start_time": "2022-03-31T15:13:31.569387",
     "status": "completed"
    },
    "tags": []
   },
   "outputs": [],
   "source": [
    "# Concatenate the train and test sets for the cleaning step\n",
    "SalePrice_column = df_train['SalePrice']\n",
    "df_in = pd.concat((df_train, df_test))"
   ]
  },
  {
   "cell_type": "code",
   "execution_count": 4,
   "id": "d2ac8be9",
   "metadata": {
    "execution": {
     "iopub.execute_input": "2022-03-31T15:13:31.881317Z",
     "iopub.status.busy": "2022-03-31T15:13:31.880502Z",
     "iopub.status.idle": "2022-03-31T15:13:31.889179Z",
     "shell.execute_reply": "2022-03-31T15:13:31.889695Z",
     "shell.execute_reply.started": "2022-03-31T14:57:56.864958Z"
    },
    "papermill": {
     "duration": 0.104745,
     "end_time": "2022-03-31T15:13:31.889865",
     "exception": false,
     "start_time": "2022-03-31T15:13:31.785120",
     "status": "completed"
    },
    "tags": []
   },
   "outputs": [
    {
     "data": {
      "text/plain": [
       "Index(['Id', 'MSSubClass', 'MSZoning', 'LotFrontage', 'LotArea', 'Street',\n",
       "       'Alley', 'LotShape', 'LandContour', 'Utilities', 'LotConfig',\n",
       "       'LandSlope', 'Neighborhood', 'Condition1', 'Condition2', 'BldgType',\n",
       "       'HouseStyle', 'OverallQual', 'OverallCond', 'YearBuilt', 'YearRemodAdd',\n",
       "       'RoofStyle', 'RoofMatl', 'Exterior1st', 'Exterior2nd', 'MasVnrType',\n",
       "       'MasVnrArea', 'ExterQual', 'ExterCond', 'Foundation', 'BsmtQual',\n",
       "       'BsmtCond', 'BsmtExposure', 'BsmtFinType1', 'BsmtFinSF1',\n",
       "       'BsmtFinType2', 'BsmtFinSF2', 'BsmtUnfSF', 'TotalBsmtSF', 'Heating',\n",
       "       'HeatingQC', 'CentralAir', 'Electrical', '1stFlrSF', '2ndFlrSF',\n",
       "       'LowQualFinSF', 'GrLivArea', 'BsmtFullBath', 'BsmtHalfBath', 'FullBath',\n",
       "       'HalfBath', 'BedroomAbvGr', 'KitchenAbvGr', 'KitchenQual',\n",
       "       'TotRmsAbvGrd', 'Functional', 'Fireplaces', 'FireplaceQu', 'GarageType',\n",
       "       'GarageYrBlt', 'GarageFinish', 'GarageCars', 'GarageArea', 'GarageQual',\n",
       "       'GarageCond', 'PavedDrive', 'WoodDeckSF', 'OpenPorchSF',\n",
       "       'EnclosedPorch', '3SsnPorch', 'ScreenPorch', 'PoolArea', 'PoolQC',\n",
       "       'Fence', 'MiscFeature', 'MiscVal', 'MoSold', 'YrSold', 'SaleType',\n",
       "       'SaleCondition', 'SalePrice'],\n",
       "      dtype='object')"
      ]
     },
     "execution_count": 4,
     "metadata": {},
     "output_type": "execute_result"
    }
   ],
   "source": [
    "df_in.columns"
   ]
  },
  {
   "cell_type": "code",
   "execution_count": 5,
   "id": "c6b364b1",
   "metadata": {
    "execution": {
     "iopub.execute_input": "2022-03-31T15:13:32.082501Z",
     "iopub.status.busy": "2022-03-31T15:13:32.081854Z",
     "iopub.status.idle": "2022-03-31T15:13:32.187813Z",
     "shell.execute_reply": "2022-03-31T15:13:32.188350Z",
     "shell.execute_reply.started": "2022-03-31T14:57:57.472016Z"
    },
    "papermill": {
     "duration": 0.204248,
     "end_time": "2022-03-31T15:13:32.188516",
     "exception": false,
     "start_time": "2022-03-31T15:13:31.984268",
     "status": "completed"
    },
    "tags": []
   },
   "outputs": [
    {
     "data": {
      "text/html": [
       "<div>\n",
       "<style scoped>\n",
       "    .dataframe tbody tr th:only-of-type {\n",
       "        vertical-align: middle;\n",
       "    }\n",
       "\n",
       "    .dataframe tbody tr th {\n",
       "        vertical-align: top;\n",
       "    }\n",
       "\n",
       "    .dataframe thead th {\n",
       "        text-align: right;\n",
       "    }\n",
       "</style>\n",
       "<table border=\"1\" class=\"dataframe\">\n",
       "  <thead>\n",
       "    <tr style=\"text-align: right;\">\n",
       "      <th></th>\n",
       "      <th>Id</th>\n",
       "      <th>MSSubClass</th>\n",
       "      <th>LotFrontage</th>\n",
       "      <th>LotArea</th>\n",
       "      <th>OverallQual</th>\n",
       "      <th>OverallCond</th>\n",
       "      <th>YearBuilt</th>\n",
       "      <th>YearRemodAdd</th>\n",
       "      <th>MasVnrArea</th>\n",
       "      <th>BsmtFinSF1</th>\n",
       "      <th>...</th>\n",
       "      <th>WoodDeckSF</th>\n",
       "      <th>OpenPorchSF</th>\n",
       "      <th>EnclosedPorch</th>\n",
       "      <th>3SsnPorch</th>\n",
       "      <th>ScreenPorch</th>\n",
       "      <th>PoolArea</th>\n",
       "      <th>MiscVal</th>\n",
       "      <th>MoSold</th>\n",
       "      <th>YrSold</th>\n",
       "      <th>SalePrice</th>\n",
       "    </tr>\n",
       "  </thead>\n",
       "  <tbody>\n",
       "    <tr>\n",
       "      <th>count</th>\n",
       "      <td>2919.000000</td>\n",
       "      <td>2919.000000</td>\n",
       "      <td>2433.000000</td>\n",
       "      <td>2919.000000</td>\n",
       "      <td>2919.000000</td>\n",
       "      <td>2919.000000</td>\n",
       "      <td>2919.000000</td>\n",
       "      <td>2919.000000</td>\n",
       "      <td>2896.000000</td>\n",
       "      <td>2918.000000</td>\n",
       "      <td>...</td>\n",
       "      <td>2919.000000</td>\n",
       "      <td>2919.000000</td>\n",
       "      <td>2919.000000</td>\n",
       "      <td>2919.000000</td>\n",
       "      <td>2919.000000</td>\n",
       "      <td>2919.000000</td>\n",
       "      <td>2919.000000</td>\n",
       "      <td>2919.000000</td>\n",
       "      <td>2919.000000</td>\n",
       "      <td>1460.000000</td>\n",
       "    </tr>\n",
       "    <tr>\n",
       "      <th>mean</th>\n",
       "      <td>1460.000000</td>\n",
       "      <td>57.137718</td>\n",
       "      <td>69.305795</td>\n",
       "      <td>10168.114080</td>\n",
       "      <td>6.089072</td>\n",
       "      <td>5.564577</td>\n",
       "      <td>1971.312778</td>\n",
       "      <td>1984.264474</td>\n",
       "      <td>102.201312</td>\n",
       "      <td>441.423235</td>\n",
       "      <td>...</td>\n",
       "      <td>93.709832</td>\n",
       "      <td>47.486811</td>\n",
       "      <td>23.098321</td>\n",
       "      <td>2.602261</td>\n",
       "      <td>16.062350</td>\n",
       "      <td>2.251799</td>\n",
       "      <td>50.825968</td>\n",
       "      <td>6.213087</td>\n",
       "      <td>2007.792737</td>\n",
       "      <td>180921.195890</td>\n",
       "    </tr>\n",
       "    <tr>\n",
       "      <th>std</th>\n",
       "      <td>842.787043</td>\n",
       "      <td>42.517628</td>\n",
       "      <td>23.344905</td>\n",
       "      <td>7886.996359</td>\n",
       "      <td>1.409947</td>\n",
       "      <td>1.113131</td>\n",
       "      <td>30.291442</td>\n",
       "      <td>20.894344</td>\n",
       "      <td>179.334253</td>\n",
       "      <td>455.610826</td>\n",
       "      <td>...</td>\n",
       "      <td>126.526589</td>\n",
       "      <td>67.575493</td>\n",
       "      <td>64.244246</td>\n",
       "      <td>25.188169</td>\n",
       "      <td>56.184365</td>\n",
       "      <td>35.663946</td>\n",
       "      <td>567.402211</td>\n",
       "      <td>2.714762</td>\n",
       "      <td>1.314964</td>\n",
       "      <td>79442.502883</td>\n",
       "    </tr>\n",
       "    <tr>\n",
       "      <th>min</th>\n",
       "      <td>1.000000</td>\n",
       "      <td>20.000000</td>\n",
       "      <td>21.000000</td>\n",
       "      <td>1300.000000</td>\n",
       "      <td>1.000000</td>\n",
       "      <td>1.000000</td>\n",
       "      <td>1872.000000</td>\n",
       "      <td>1950.000000</td>\n",
       "      <td>0.000000</td>\n",
       "      <td>0.000000</td>\n",
       "      <td>...</td>\n",
       "      <td>0.000000</td>\n",
       "      <td>0.000000</td>\n",
       "      <td>0.000000</td>\n",
       "      <td>0.000000</td>\n",
       "      <td>0.000000</td>\n",
       "      <td>0.000000</td>\n",
       "      <td>0.000000</td>\n",
       "      <td>1.000000</td>\n",
       "      <td>2006.000000</td>\n",
       "      <td>34900.000000</td>\n",
       "    </tr>\n",
       "    <tr>\n",
       "      <th>25%</th>\n",
       "      <td>730.500000</td>\n",
       "      <td>20.000000</td>\n",
       "      <td>59.000000</td>\n",
       "      <td>7478.000000</td>\n",
       "      <td>5.000000</td>\n",
       "      <td>5.000000</td>\n",
       "      <td>1953.500000</td>\n",
       "      <td>1965.000000</td>\n",
       "      <td>0.000000</td>\n",
       "      <td>0.000000</td>\n",
       "      <td>...</td>\n",
       "      <td>0.000000</td>\n",
       "      <td>0.000000</td>\n",
       "      <td>0.000000</td>\n",
       "      <td>0.000000</td>\n",
       "      <td>0.000000</td>\n",
       "      <td>0.000000</td>\n",
       "      <td>0.000000</td>\n",
       "      <td>4.000000</td>\n",
       "      <td>2007.000000</td>\n",
       "      <td>129975.000000</td>\n",
       "    </tr>\n",
       "    <tr>\n",
       "      <th>50%</th>\n",
       "      <td>1460.000000</td>\n",
       "      <td>50.000000</td>\n",
       "      <td>68.000000</td>\n",
       "      <td>9453.000000</td>\n",
       "      <td>6.000000</td>\n",
       "      <td>5.000000</td>\n",
       "      <td>1973.000000</td>\n",
       "      <td>1993.000000</td>\n",
       "      <td>0.000000</td>\n",
       "      <td>368.500000</td>\n",
       "      <td>...</td>\n",
       "      <td>0.000000</td>\n",
       "      <td>26.000000</td>\n",
       "      <td>0.000000</td>\n",
       "      <td>0.000000</td>\n",
       "      <td>0.000000</td>\n",
       "      <td>0.000000</td>\n",
       "      <td>0.000000</td>\n",
       "      <td>6.000000</td>\n",
       "      <td>2008.000000</td>\n",
       "      <td>163000.000000</td>\n",
       "    </tr>\n",
       "    <tr>\n",
       "      <th>75%</th>\n",
       "      <td>2189.500000</td>\n",
       "      <td>70.000000</td>\n",
       "      <td>80.000000</td>\n",
       "      <td>11570.000000</td>\n",
       "      <td>7.000000</td>\n",
       "      <td>6.000000</td>\n",
       "      <td>2001.000000</td>\n",
       "      <td>2004.000000</td>\n",
       "      <td>164.000000</td>\n",
       "      <td>733.000000</td>\n",
       "      <td>...</td>\n",
       "      <td>168.000000</td>\n",
       "      <td>70.000000</td>\n",
       "      <td>0.000000</td>\n",
       "      <td>0.000000</td>\n",
       "      <td>0.000000</td>\n",
       "      <td>0.000000</td>\n",
       "      <td>0.000000</td>\n",
       "      <td>8.000000</td>\n",
       "      <td>2009.000000</td>\n",
       "      <td>214000.000000</td>\n",
       "    </tr>\n",
       "    <tr>\n",
       "      <th>max</th>\n",
       "      <td>2919.000000</td>\n",
       "      <td>190.000000</td>\n",
       "      <td>313.000000</td>\n",
       "      <td>215245.000000</td>\n",
       "      <td>10.000000</td>\n",
       "      <td>9.000000</td>\n",
       "      <td>2010.000000</td>\n",
       "      <td>2010.000000</td>\n",
       "      <td>1600.000000</td>\n",
       "      <td>5644.000000</td>\n",
       "      <td>...</td>\n",
       "      <td>1424.000000</td>\n",
       "      <td>742.000000</td>\n",
       "      <td>1012.000000</td>\n",
       "      <td>508.000000</td>\n",
       "      <td>576.000000</td>\n",
       "      <td>800.000000</td>\n",
       "      <td>17000.000000</td>\n",
       "      <td>12.000000</td>\n",
       "      <td>2010.000000</td>\n",
       "      <td>755000.000000</td>\n",
       "    </tr>\n",
       "  </tbody>\n",
       "</table>\n",
       "<p>8 rows × 38 columns</p>\n",
       "</div>"
      ],
      "text/plain": [
       "                Id   MSSubClass  LotFrontage        LotArea  OverallQual  \\\n",
       "count  2919.000000  2919.000000  2433.000000    2919.000000  2919.000000   \n",
       "mean   1460.000000    57.137718    69.305795   10168.114080     6.089072   \n",
       "std     842.787043    42.517628    23.344905    7886.996359     1.409947   \n",
       "min       1.000000    20.000000    21.000000    1300.000000     1.000000   \n",
       "25%     730.500000    20.000000    59.000000    7478.000000     5.000000   \n",
       "50%    1460.000000    50.000000    68.000000    9453.000000     6.000000   \n",
       "75%    2189.500000    70.000000    80.000000   11570.000000     7.000000   \n",
       "max    2919.000000   190.000000   313.000000  215245.000000    10.000000   \n",
       "\n",
       "       OverallCond    YearBuilt  YearRemodAdd   MasVnrArea   BsmtFinSF1  ...  \\\n",
       "count  2919.000000  2919.000000   2919.000000  2896.000000  2918.000000  ...   \n",
       "mean      5.564577  1971.312778   1984.264474   102.201312   441.423235  ...   \n",
       "std       1.113131    30.291442     20.894344   179.334253   455.610826  ...   \n",
       "min       1.000000  1872.000000   1950.000000     0.000000     0.000000  ...   \n",
       "25%       5.000000  1953.500000   1965.000000     0.000000     0.000000  ...   \n",
       "50%       5.000000  1973.000000   1993.000000     0.000000   368.500000  ...   \n",
       "75%       6.000000  2001.000000   2004.000000   164.000000   733.000000  ...   \n",
       "max       9.000000  2010.000000   2010.000000  1600.000000  5644.000000  ...   \n",
       "\n",
       "        WoodDeckSF  OpenPorchSF  EnclosedPorch    3SsnPorch  ScreenPorch  \\\n",
       "count  2919.000000  2919.000000    2919.000000  2919.000000  2919.000000   \n",
       "mean     93.709832    47.486811      23.098321     2.602261    16.062350   \n",
       "std     126.526589    67.575493      64.244246    25.188169    56.184365   \n",
       "min       0.000000     0.000000       0.000000     0.000000     0.000000   \n",
       "25%       0.000000     0.000000       0.000000     0.000000     0.000000   \n",
       "50%       0.000000    26.000000       0.000000     0.000000     0.000000   \n",
       "75%     168.000000    70.000000       0.000000     0.000000     0.000000   \n",
       "max    1424.000000   742.000000    1012.000000   508.000000   576.000000   \n",
       "\n",
       "          PoolArea       MiscVal       MoSold       YrSold      SalePrice  \n",
       "count  2919.000000   2919.000000  2919.000000  2919.000000    1460.000000  \n",
       "mean      2.251799     50.825968     6.213087  2007.792737  180921.195890  \n",
       "std      35.663946    567.402211     2.714762     1.314964   79442.502883  \n",
       "min       0.000000      0.000000     1.000000  2006.000000   34900.000000  \n",
       "25%       0.000000      0.000000     4.000000  2007.000000  129975.000000  \n",
       "50%       0.000000      0.000000     6.000000  2008.000000  163000.000000  \n",
       "75%       0.000000      0.000000     8.000000  2009.000000  214000.000000  \n",
       "max     800.000000  17000.000000    12.000000  2010.000000  755000.000000  \n",
       "\n",
       "[8 rows x 38 columns]"
      ]
     },
     "execution_count": 5,
     "metadata": {},
     "output_type": "execute_result"
    }
   ],
   "source": [
    "df_in.describe()"
   ]
  },
  {
   "cell_type": "markdown",
   "id": "32d41d5c",
   "metadata": {
    "papermill": {
     "duration": 0.097986,
     "end_time": "2022-03-31T15:13:32.384343",
     "exception": false,
     "start_time": "2022-03-31T15:13:32.286357",
     "status": "completed"
    },
    "tags": []
   },
   "source": [
    "### 2) Cleaning the data"
   ]
  },
  {
   "cell_type": "code",
   "execution_count": 6,
   "id": "fb9e848c",
   "metadata": {
    "execution": {
     "iopub.execute_input": "2022-03-31T15:13:32.588493Z",
     "iopub.status.busy": "2022-03-31T15:13:32.587641Z",
     "iopub.status.idle": "2022-03-31T15:13:32.618871Z",
     "shell.execute_reply": "2022-03-31T15:13:32.617709Z",
     "shell.execute_reply.started": "2022-03-31T14:57:59.291263Z"
    },
    "papermill": {
     "duration": 0.133748,
     "end_time": "2022-03-31T15:13:32.619020",
     "exception": false,
     "start_time": "2022-03-31T15:13:32.485272",
     "status": "completed"
    },
    "tags": []
   },
   "outputs": [],
   "source": [
    "# Dropping the feature SalePrice since it is not given for the test set\n",
    "df = df_in.drop('SalePrice', axis=1)\n",
    "# Dropping the rows with only NaNs\n",
    "df = df.dropna(thresh=2)\n",
    "# Dropping the columns with a high number of NaNs\n",
    "df = df.drop(['Alley', 'FireplaceQu','PoolQC', 'Fence', 'MiscFeature'], axis=1)"
   ]
  },
  {
   "cell_type": "code",
   "execution_count": 7,
   "id": "c17c9c55",
   "metadata": {
    "execution": {
     "iopub.execute_input": "2022-03-31T15:13:32.831889Z",
     "iopub.status.busy": "2022-03-31T15:13:32.830976Z",
     "iopub.status.idle": "2022-03-31T15:13:32.836339Z",
     "shell.execute_reply": "2022-03-31T15:13:32.837014Z",
     "shell.execute_reply.started": "2022-03-31T14:57:59.917083Z"
    },
    "papermill": {
     "duration": 0.118809,
     "end_time": "2022-03-31T15:13:32.837282",
     "exception": false,
     "start_time": "2022-03-31T15:13:32.718473",
     "status": "completed"
    },
    "tags": []
   },
   "outputs": [],
   "source": [
    "# Percentage of null values in the dataframe\n",
    "Pct_null = (df.isnull().sum()/df.shape[0])*100"
   ]
  },
  {
   "cell_type": "code",
   "execution_count": 8,
   "id": "637e1ec5",
   "metadata": {
    "execution": {
     "iopub.execute_input": "2022-03-31T15:13:33.037347Z",
     "iopub.status.busy": "2022-03-31T15:13:33.036669Z",
     "iopub.status.idle": "2022-03-31T15:13:33.042248Z",
     "shell.execute_reply": "2022-03-31T15:13:33.042791Z",
     "shell.execute_reply.started": "2022-03-31T14:58:00.571675Z"
    },
    "papermill": {
     "duration": 0.107579,
     "end_time": "2022-03-31T15:13:33.042968",
     "exception": false,
     "start_time": "2022-03-31T15:13:32.935389",
     "status": "completed"
    },
    "tags": []
   },
   "outputs": [],
   "source": [
    "# Remove columns with more than 30% of null values\n",
    "col_null = Pct_null[Pct_null > 30].keys()\n",
    "df = df.drop(col_null, axis=1)"
   ]
  },
  {
   "cell_type": "code",
   "execution_count": 9,
   "id": "a0928958",
   "metadata": {
    "execution": {
     "iopub.execute_input": "2022-03-31T15:13:33.238727Z",
     "iopub.status.busy": "2022-03-31T15:13:33.238081Z",
     "iopub.status.idle": "2022-03-31T15:13:33.243396Z",
     "shell.execute_reply": "2022-03-31T15:13:33.243944Z",
     "shell.execute_reply.started": "2022-03-31T14:58:01.108472Z"
    },
    "papermill": {
     "duration": 0.106101,
     "end_time": "2022-03-31T15:13:33.244116",
     "exception": false,
     "start_time": "2022-03-31T15:13:33.138015",
     "status": "completed"
    },
    "tags": []
   },
   "outputs": [
    {
     "data": {
      "text/plain": [
       "Index(['Id', 'MSSubClass', 'MSZoning', 'LotFrontage', 'LotArea', 'Street',\n",
       "       'LotShape', 'LandContour', 'Utilities', 'LotConfig', 'LandSlope',\n",
       "       'Neighborhood', 'Condition1', 'Condition2', 'BldgType', 'HouseStyle',\n",
       "       'OverallQual', 'OverallCond', 'YearBuilt', 'YearRemodAdd', 'RoofStyle',\n",
       "       'RoofMatl', 'Exterior1st', 'Exterior2nd', 'MasVnrType', 'MasVnrArea',\n",
       "       'ExterQual', 'ExterCond', 'Foundation', 'BsmtQual', 'BsmtCond',\n",
       "       'BsmtExposure', 'BsmtFinType1', 'BsmtFinSF1', 'BsmtFinType2',\n",
       "       'BsmtFinSF2', 'BsmtUnfSF', 'TotalBsmtSF', 'Heating', 'HeatingQC',\n",
       "       'CentralAir', 'Electrical', '1stFlrSF', '2ndFlrSF', 'LowQualFinSF',\n",
       "       'GrLivArea', 'BsmtFullBath', 'BsmtHalfBath', 'FullBath', 'HalfBath',\n",
       "       'BedroomAbvGr', 'KitchenAbvGr', 'KitchenQual', 'TotRmsAbvGrd',\n",
       "       'Functional', 'Fireplaces', 'GarageType', 'GarageYrBlt', 'GarageFinish',\n",
       "       'GarageCars', 'GarageArea', 'GarageQual', 'GarageCond', 'PavedDrive',\n",
       "       'WoodDeckSF', 'OpenPorchSF', 'EnclosedPorch', '3SsnPorch',\n",
       "       'ScreenPorch', 'PoolArea', 'MiscVal', 'MoSold', 'YrSold', 'SaleType',\n",
       "       'SaleCondition'],\n",
       "      dtype='object')"
      ]
     },
     "execution_count": 9,
     "metadata": {},
     "output_type": "execute_result"
    }
   ],
   "source": [
    "df.columns"
   ]
  },
  {
   "cell_type": "code",
   "execution_count": 10,
   "id": "d91e1d52",
   "metadata": {
    "collapsed": true,
    "execution": {
     "iopub.execute_input": "2022-03-31T15:13:33.443908Z",
     "iopub.status.busy": "2022-03-31T15:13:33.443244Z",
     "iopub.status.idle": "2022-03-31T15:13:33.455903Z",
     "shell.execute_reply": "2022-03-31T15:13:33.455241Z",
     "shell.execute_reply.started": "2022-03-31T14:58:01.697336Z"
    },
    "jupyter": {
     "outputs_hidden": true
    },
    "papermill": {
     "duration": 0.113765,
     "end_time": "2022-03-31T15:13:33.456053",
     "exception": false,
     "start_time": "2022-03-31T15:13:33.342288",
     "status": "completed"
    },
    "tags": []
   },
   "outputs": [
    {
     "data": {
      "text/plain": [
       "Id                 0\n",
       "MSSubClass         0\n",
       "MSZoning           4\n",
       "LotFrontage      486\n",
       "LotArea            0\n",
       "                ... \n",
       "MiscVal            0\n",
       "MoSold             0\n",
       "YrSold             0\n",
       "SaleType           1\n",
       "SaleCondition      0\n",
       "Length: 75, dtype: int64"
      ]
     },
     "execution_count": 10,
     "metadata": {},
     "output_type": "execute_result"
    }
   ],
   "source": [
    "df.isnull().sum()"
   ]
  },
  {
   "cell_type": "code",
   "execution_count": 11,
   "id": "ca5bf52c",
   "metadata": {
    "execution": {
     "iopub.execute_input": "2022-03-31T15:13:33.667535Z",
     "iopub.status.busy": "2022-03-31T15:13:33.665380Z",
     "iopub.status.idle": "2022-03-31T15:13:33.956060Z",
     "shell.execute_reply": "2022-03-31T15:13:33.955446Z",
     "shell.execute_reply.started": "2022-03-31T14:58:02.072915Z"
    },
    "papermill": {
     "duration": 0.404264,
     "end_time": "2022-03-31T15:13:33.956218",
     "exception": false,
     "start_time": "2022-03-31T15:13:33.551954",
     "status": "completed"
    },
    "tags": []
   },
   "outputs": [],
   "source": [
    "# Replace the nan value in MSZoning by the recurrent value\n",
    "df['MSZoning'].fillna(df['MSZoning'].mode()[0], inplace=True)\n",
    "# Replace the nan value in Utilities by the recurrent value\n",
    "df['Utilities'].fillna(df['Utilities'].mode()[0], inplace=True)\n",
    "# Replace the nan values in LotFrontage by the mean value\n",
    "df['LotFrontage'].fillna(np.mean(df['LotFrontage']), inplace=True)\n",
    "# Replace the nan values in MasVnr by ['None', 0]\n",
    "df[['MasVnrType', 'MasVnrArea']] = df[['MasVnrType', 'MasVnrArea']].apply(\n",
    "        lambda x: [\"None\", 0] if pd.isnull(x['MasVnrType'])\n",
    "        else x, axis=1)\n",
    "df['BsmtQual'].fillna('NA', inplace=True)\n",
    "df['BsmtCond'].fillna('NA', inplace=True)\n",
    "df['BsmtExposure'].fillna('NA', inplace=True)\n",
    "df['BsmtFinType1'].fillna('NA', inplace=True)\n",
    "df['BsmtFinType2'].fillna('NA', inplace=True)\n",
    "# Replace the missing values by the recurrent value\n",
    "df['BsmtFinSF1'].fillna(df['BsmtFinSF1'].mode()[0], inplace=True)\n",
    "df['BsmtFinSF2'].fillna(df['BsmtFinSF2'].mode()[0], inplace=True)\n",
    "df['BsmtUnfSF'].fillna(df['BsmtUnfSF'].mode()[0], inplace=True)\n",
    "df['TotalBsmtSF'].fillna(df['TotalBsmtSF'].mode()[0], inplace=True)\n",
    "df['Electrical'].fillna(df['Electrical'].mode()[0], inplace=True)\n",
    "df['BsmtFullBath'].fillna(df['BsmtFullBath'].mode()[0], inplace=True)\n",
    "df['BsmtHalfBath'].fillna(df['BsmtHalfBath'].mode()[0], inplace=True)\n",
    "df['KitchenQual'].fillna(df['KitchenQual'].mode()[0], inplace=True)\n",
    "df['Functional'].fillna(df['Functional'].mode()[0], inplace=True)\n",
    "df['Exterior1st'].fillna(df['Exterior1st'].mode()[0], inplace=True)\n",
    "df['Exterior2nd'].fillna(df['Exterior2nd'].mode()[0], inplace=True)\n",
    "# Replace the value 2207 by 2007 in GarageYrBlt\n",
    "df['GarageYrBlt'] = df['GarageYrBlt'].apply(lambda x: 2007 if x==2207 else x)\n",
    "# Replace the nan value in GarageYrBlt by 0\n",
    "df['GarageYrBlt'].fillna(0, inplace=True)\n",
    "# Replace the nan values in GarageType and GarageFinish by NA\n",
    "df['GarageType'].fillna('NA', inplace=True)\n",
    "df['GarageFinish'].fillna('NA', inplace=True)\n",
    "# Replace the nan values in GarageQual and GarageCond by NA\n",
    "df['GarageQual'].fillna('NA', inplace=True)\n",
    "df['GarageCond'].fillna('NA', inplace=True)\n",
    "# Replace the missing value in SaleType by the recurrent value\n",
    "df['SaleType'].fillna(df['SaleType'].mode()[0], inplace=True)\n",
    "# Replace the missing value in GarageCars by the recurrent value\n",
    "df['GarageCars'].fillna(df['GarageCars'].mode()[0], inplace=True)\n",
    "df['GarageArea'].fillna(df['GarageArea'].mode()[0], inplace=True)"
   ]
  },
  {
   "cell_type": "code",
   "execution_count": 12,
   "id": "56f44138",
   "metadata": {
    "execution": {
     "iopub.execute_input": "2022-03-31T15:13:34.166682Z",
     "iopub.status.busy": "2022-03-31T15:13:34.165971Z",
     "iopub.status.idle": "2022-03-31T15:13:34.172269Z",
     "shell.execute_reply": "2022-03-31T15:13:34.171660Z",
     "shell.execute_reply.started": "2022-03-31T14:58:02.496365Z"
    },
    "papermill": {
     "duration": 0.120699,
     "end_time": "2022-03-31T15:13:34.172458",
     "exception": false,
     "start_time": "2022-03-31T15:13:34.051759",
     "status": "completed"
    },
    "tags": []
   },
   "outputs": [
    {
     "data": {
      "text/plain": [
       "0"
      ]
     },
     "execution_count": 12,
     "metadata": {},
     "output_type": "execute_result"
    }
   ],
   "source": [
    "df.isnull().sum().sum()"
   ]
  },
  {
   "cell_type": "code",
   "execution_count": 13,
   "id": "fe3979db",
   "metadata": {
    "execution": {
     "iopub.execute_input": "2022-03-31T15:13:34.374025Z",
     "iopub.status.busy": "2022-03-31T15:13:34.373375Z",
     "iopub.status.idle": "2022-03-31T15:13:34.378270Z",
     "shell.execute_reply": "2022-03-31T15:13:34.378831Z",
     "shell.execute_reply.started": "2022-03-31T14:58:02.848232Z"
    },
    "papermill": {
     "duration": 0.106152,
     "end_time": "2022-03-31T15:13:34.379012",
     "exception": false,
     "start_time": "2022-03-31T15:13:34.272860",
     "status": "completed"
    },
    "tags": []
   },
   "outputs": [
    {
     "data": {
      "text/plain": [
       "\"# Plot histograms of df_train features\\nfrom matplotlib.pyplot import figure\\nfor i in df.columns:\\n    print(i)\\n    figure(figsize=(10, 8), dpi=80)\\n    h = df[i].hist()\\n    h.tick_params(axis='x', rotation=70)\\n    plt.show(h)\""
      ]
     },
     "execution_count": 13,
     "metadata": {},
     "output_type": "execute_result"
    }
   ],
   "source": [
    "\"\"\"# Plot histograms of df_train features\n",
    "from matplotlib.pyplot import figure\n",
    "for i in df.columns:\n",
    "    print(i)\n",
    "    figure(figsize=(10, 8), dpi=80)\n",
    "    h = df[i].hist()\n",
    "    h.tick_params(axis='x', rotation=70)\n",
    "    plt.show(h)\"\"\""
   ]
  },
  {
   "cell_type": "code",
   "execution_count": 14,
   "id": "ca59ad6f",
   "metadata": {
    "execution": {
     "iopub.execute_input": "2022-03-31T15:13:34.579770Z",
     "iopub.status.busy": "2022-03-31T15:13:34.579096Z",
     "iopub.status.idle": "2022-03-31T15:13:34.616350Z",
     "shell.execute_reply": "2022-03-31T15:13:34.615756Z",
     "shell.execute_reply.started": "2022-03-31T14:58:03.164517Z"
    },
    "papermill": {
     "duration": 0.140136,
     "end_time": "2022-03-31T15:13:34.616488",
     "exception": false,
     "start_time": "2022-03-31T15:13:34.476352",
     "status": "completed"
    },
    "tags": []
   },
   "outputs": [],
   "source": [
    "# Get dummies variables\n",
    "df_dum = pd.get_dummies(df, drop_first=True)"
   ]
  },
  {
   "cell_type": "code",
   "execution_count": 15,
   "id": "a251e463",
   "metadata": {
    "execution": {
     "iopub.execute_input": "2022-03-31T15:13:34.817373Z",
     "iopub.status.busy": "2022-03-31T15:13:34.816690Z",
     "iopub.status.idle": "2022-03-31T15:13:34.824661Z",
     "shell.execute_reply": "2022-03-31T15:13:34.825261Z",
     "shell.execute_reply.started": "2022-03-31T14:58:03.957379Z"
    },
    "papermill": {
     "duration": 0.11171,
     "end_time": "2022-03-31T15:13:34.825439",
     "exception": false,
     "start_time": "2022-03-31T15:13:34.713729",
     "status": "completed"
    },
    "tags": []
   },
   "outputs": [],
   "source": [
    "# Split back the train and test DataFrames\n",
    "df_train_dum = df_dum.loc[df_in['Id'] < 1461]\n",
    "df_test_dum = df_dum.loc[df_in['Id'] > 1460]"
   ]
  },
  {
   "cell_type": "code",
   "execution_count": 16,
   "id": "5d1a8b3d",
   "metadata": {
    "execution": {
     "iopub.execute_input": "2022-03-31T15:13:35.029919Z",
     "iopub.status.busy": "2022-03-31T15:13:35.028751Z",
     "iopub.status.idle": "2022-03-31T15:13:35.041117Z",
     "shell.execute_reply": "2022-03-31T15:13:35.041652Z",
     "shell.execute_reply.started": "2022-03-31T14:58:05.007992Z"
    },
    "papermill": {
     "duration": 0.116419,
     "end_time": "2022-03-31T15:13:35.041830",
     "exception": false,
     "start_time": "2022-03-31T15:13:34.925411",
     "status": "completed"
    },
    "tags": []
   },
   "outputs": [],
   "source": [
    "# Add back the SalePrice column to df_train_dum\n",
    "df_train_dum = df_train_dum.join(df_train['SalePrice'])"
   ]
  },
  {
   "cell_type": "code",
   "execution_count": 17,
   "id": "e4414219",
   "metadata": {
    "execution": {
     "iopub.execute_input": "2022-03-31T15:13:35.250915Z",
     "iopub.status.busy": "2022-03-31T15:13:35.250293Z",
     "iopub.status.idle": "2022-03-31T15:13:35.329695Z",
     "shell.execute_reply": "2022-03-31T15:13:35.330349Z",
     "shell.execute_reply.started": "2022-03-31T14:58:05.855388Z"
    },
    "papermill": {
     "duration": 0.179622,
     "end_time": "2022-03-31T15:13:35.330532",
     "exception": false,
     "start_time": "2022-03-31T15:13:35.150910",
     "status": "completed"
    },
    "tags": []
   },
   "outputs": [],
   "source": [
    "# Calculating correlations with the feature SalePrice\n",
    "corr = []\n",
    "col = []\n",
    "for i in df_train_dum.columns:\n",
    "    corr.append(df_train_dum[i].corr(df_train_dum['SalePrice']))\n",
    "    col.append(i)"
   ]
  },
  {
   "cell_type": "code",
   "execution_count": 18,
   "id": "0cfb6f4f",
   "metadata": {
    "execution": {
     "iopub.execute_input": "2022-03-31T15:13:35.540606Z",
     "iopub.status.busy": "2022-03-31T15:13:35.539922Z",
     "iopub.status.idle": "2022-03-31T15:13:35.541466Z",
     "shell.execute_reply": "2022-03-31T15:13:35.542087Z",
     "shell.execute_reply.started": "2022-03-31T14:58:06.159820Z"
    },
    "papermill": {
     "duration": 0.109884,
     "end_time": "2022-03-31T15:13:35.542310",
     "exception": false,
     "start_time": "2022-03-31T15:13:35.432426",
     "status": "completed"
    },
    "tags": []
   },
   "outputs": [],
   "source": [
    "df_corr = pd.DataFrame({'Feature':col, 'Correlation': [abs(ele) for ele in corr]})"
   ]
  },
  {
   "cell_type": "code",
   "execution_count": 19,
   "id": "3b3fb949",
   "metadata": {
    "collapsed": true,
    "execution": {
     "iopub.execute_input": "2022-03-31T15:13:35.742686Z",
     "iopub.status.busy": "2022-03-31T15:13:35.741933Z",
     "iopub.status.idle": "2022-03-31T15:13:35.752660Z",
     "shell.execute_reply": "2022-03-31T15:13:35.753223Z",
     "shell.execute_reply.started": "2022-03-31T14:58:06.716842Z"
    },
    "jupyter": {
     "outputs_hidden": true
    },
    "papermill": {
     "duration": 0.112816,
     "end_time": "2022-03-31T15:13:35.753407",
     "exception": false,
     "start_time": "2022-03-31T15:13:35.640591",
     "status": "completed"
    },
    "tags": []
   },
   "outputs": [
    {
     "data": {
      "text/html": [
       "<div>\n",
       "<style scoped>\n",
       "    .dataframe tbody tr th:only-of-type {\n",
       "        vertical-align: middle;\n",
       "    }\n",
       "\n",
       "    .dataframe tbody tr th {\n",
       "        vertical-align: top;\n",
       "    }\n",
       "\n",
       "    .dataframe thead th {\n",
       "        text-align: right;\n",
       "    }\n",
       "</style>\n",
       "<table border=\"1\" class=\"dataframe\">\n",
       "  <thead>\n",
       "    <tr style=\"text-align: right;\">\n",
       "      <th></th>\n",
       "      <th>Feature</th>\n",
       "      <th>Correlation</th>\n",
       "    </tr>\n",
       "  </thead>\n",
       "  <tbody>\n",
       "    <tr>\n",
       "      <th>242</th>\n",
       "      <td>SalePrice</td>\n",
       "      <td>1.000000</td>\n",
       "    </tr>\n",
       "    <tr>\n",
       "      <th>4</th>\n",
       "      <td>OverallQual</td>\n",
       "      <td>0.790982</td>\n",
       "    </tr>\n",
       "    <tr>\n",
       "      <th>16</th>\n",
       "      <td>GrLivArea</td>\n",
       "      <td>0.708624</td>\n",
       "    </tr>\n",
       "    <tr>\n",
       "      <th>26</th>\n",
       "      <td>GarageCars</td>\n",
       "      <td>0.640409</td>\n",
       "    </tr>\n",
       "    <tr>\n",
       "      <th>27</th>\n",
       "      <td>GarageArea</td>\n",
       "      <td>0.623431</td>\n",
       "    </tr>\n",
       "    <tr>\n",
       "      <th>...</th>\n",
       "      <td>...</td>\n",
       "      <td>...</td>\n",
       "    </tr>\n",
       "    <tr>\n",
       "      <th>160</th>\n",
       "      <td>Foundation_Wood</td>\n",
       "      <td>0.002711</td>\n",
       "    </tr>\n",
       "    <tr>\n",
       "      <th>223</th>\n",
       "      <td>GarageCond_Gd</td>\n",
       "      <td>0.000983</td>\n",
       "    </tr>\n",
       "    <tr>\n",
       "      <th>108</th>\n",
       "      <td>RoofStyle_Mansard</td>\n",
       "      <td>0.000308</td>\n",
       "    </tr>\n",
       "    <tr>\n",
       "      <th>112</th>\n",
       "      <td>RoofMatl_Metal</td>\n",
       "      <td>0.000304</td>\n",
       "    </tr>\n",
       "    <tr>\n",
       "      <th>180</th>\n",
       "      <td>BsmtFinType2_GLQ</td>\n",
       "      <td>0.000076</td>\n",
       "    </tr>\n",
       "  </tbody>\n",
       "</table>\n",
       "<p>243 rows × 2 columns</p>\n",
       "</div>"
      ],
      "text/plain": [
       "               Feature  Correlation\n",
       "242          SalePrice     1.000000\n",
       "4          OverallQual     0.790982\n",
       "16           GrLivArea     0.708624\n",
       "26          GarageCars     0.640409\n",
       "27          GarageArea     0.623431\n",
       "..                 ...          ...\n",
       "160    Foundation_Wood     0.002711\n",
       "223      GarageCond_Gd     0.000983\n",
       "108  RoofStyle_Mansard     0.000308\n",
       "112     RoofMatl_Metal     0.000304\n",
       "180   BsmtFinType2_GLQ     0.000076\n",
       "\n",
       "[243 rows x 2 columns]"
      ]
     },
     "execution_count": 19,
     "metadata": {},
     "output_type": "execute_result"
    }
   ],
   "source": [
    "df_corr.sort_values(by='Correlation', ascending=False)"
   ]
  },
  {
   "cell_type": "code",
   "execution_count": 20,
   "id": "4b60b64b",
   "metadata": {
    "execution": {
     "iopub.execute_input": "2022-03-31T15:13:35.976137Z",
     "iopub.status.busy": "2022-03-31T15:13:35.975518Z",
     "iopub.status.idle": "2022-03-31T15:13:35.982635Z",
     "shell.execute_reply": "2022-03-31T15:13:35.983174Z",
     "shell.execute_reply.started": "2022-03-31T14:58:07.075878Z"
    },
    "papermill": {
     "duration": 0.121638,
     "end_time": "2022-03-31T15:13:35.983344",
     "exception": false,
     "start_time": "2022-03-31T15:13:35.861706",
     "status": "completed"
    },
    "tags": []
   },
   "outputs": [],
   "source": [
    "# Levels of correlation with SalePrice\n",
    "# High correlation\n",
    "col_hc = df_corr[df_corr['Correlation'] >= 0.7]['Feature']\n",
    "# Moderate correlation\n",
    "col_mc = df_corr[(df_corr['Correlation'] >= 0.5) & \n",
    "                  (df_corr['Correlation'] < 0.7)]['Feature']\n",
    "# Low correlation\n",
    "col_lc = df_corr[(df_corr['Correlation'] >= 0.3) & \n",
    "                  (df_corr['Correlation'] < 0.5)]['Feature']\n",
    "# Neglieable correlation\n",
    "col_nc = df_corr[(df_corr['Correlation'] >= 0) & \n",
    "                  (df_corr['Correlation'] < 0.3)]['Feature']"
   ]
  },
  {
   "cell_type": "code",
   "execution_count": 21,
   "id": "048fa00b",
   "metadata": {
    "execution": {
     "iopub.execute_input": "2022-03-31T15:13:36.185051Z",
     "iopub.status.busy": "2022-03-31T15:13:36.184460Z",
     "iopub.status.idle": "2022-03-31T15:13:36.192732Z",
     "shell.execute_reply": "2022-03-31T15:13:36.193744Z",
     "shell.execute_reply.started": "2022-03-31T14:58:07.521524Z"
    },
    "papermill": {
     "duration": 0.110816,
     "end_time": "2022-03-31T15:13:36.194072",
     "exception": false,
     "start_time": "2022-03-31T15:13:36.083256",
     "status": "completed"
    },
    "tags": []
   },
   "outputs": [],
   "source": [
    "#Extract the DataFrame corresponding to each level of correlation\n",
    "df_corr_hc = df_train_dum[col_hc.values]\n",
    "df_corr_mc = df_train_dum[col_mc.values]\n",
    "df_corr_lc = df_train_dum[col_lc.values]\n",
    "df_corr_nc = df_train_dum[col_nc.values]"
   ]
  },
  {
   "cell_type": "code",
   "execution_count": 22,
   "id": "e424c66d",
   "metadata": {
    "execution": {
     "iopub.execute_input": "2022-03-31T15:13:36.399576Z",
     "iopub.status.busy": "2022-03-31T15:13:36.398873Z",
     "iopub.status.idle": "2022-03-31T15:13:36.694275Z",
     "shell.execute_reply": "2022-03-31T15:13:36.694752Z",
     "shell.execute_reply.started": "2022-03-31T14:58:07.781502Z"
    },
    "papermill": {
     "duration": 0.398293,
     "end_time": "2022-03-31T15:13:36.694916",
     "exception": false,
     "start_time": "2022-03-31T15:13:36.296623",
     "status": "completed"
    },
    "tags": []
   },
   "outputs": [
    {
     "data": {
      "text/plain": [
       "Text(0.5, 1.0, 'Heatmap of highly correlated features with SalePrice')"
      ]
     },
     "execution_count": 22,
     "metadata": {},
     "output_type": "execute_result"
    },
    {
     "data": {
      "image/png": "[encoded data removed]",
      "text/plain": [
       "<Figure size 800x640 with 2 Axes>"
      ]
     },
     "metadata": {
      "needs_background": "light"
     },
     "output_type": "display_data"
    }
   ],
   "source": [
    "from matplotlib.pyplot import figure\n",
    "figure(figsize=(10, 8), dpi=80)\n",
    "ax = plt.axes()\n",
    "sns.heatmap(df_corr_hc.corr(), vmin=-1, vmax=1, annot=True, cmap='BrBG', ax=ax)\n",
    "ax.set_title('Heatmap of highly correlated features with SalePrice')"
   ]
  },
  {
   "cell_type": "code",
   "execution_count": 23,
   "id": "44aac92a",
   "metadata": {
    "execution": {
     "iopub.execute_input": "2022-03-31T15:13:36.899452Z",
     "iopub.status.busy": "2022-03-31T15:13:36.898817Z",
     "iopub.status.idle": "2022-03-31T15:13:37.526905Z",
     "shell.execute_reply": "2022-03-31T15:13:37.526351Z",
     "shell.execute_reply.started": "2022-03-31T14:58:08.160449Z"
    },
    "papermill": {
     "duration": 0.732351,
     "end_time": "2022-03-31T15:13:37.527038",
     "exception": false,
     "start_time": "2022-03-31T15:13:36.794687",
     "status": "completed"
    },
    "tags": []
   },
   "outputs": [
    {
     "data": {
      "text/plain": [
       "Text(0.5, 1.0, 'Heatmap of mediumly correlated features with SalePrice')"
      ]
     },
     "execution_count": 23,
     "metadata": {},
     "output_type": "execute_result"
    },
    {
     "data": {
      "image/png": "[encoded data removed]",
      "text/plain": [
       "<Figure size 800x640 with 2 Axes>"
      ]
     },
     "metadata": {
      "needs_background": "light"
     },
     "output_type": "display_data"
    }
   ],
   "source": [
    "from matplotlib.pyplot import figure\n",
    "figure(figsize=(10, 8), dpi=80)\n",
    "ax = plt.axes()\n",
    "sns.heatmap(df_corr_mc.corr(), vmin=-1, vmax=1, annot=True, cmap='BrBG', ax=ax)\n",
    "ax.set_title('Heatmap of mediumly correlated features with SalePrice')"
   ]
  },
  {
   "cell_type": "code",
   "execution_count": 24,
   "id": "54414c1d",
   "metadata": {
    "execution": {
     "iopub.execute_input": "2022-03-31T15:13:37.740425Z",
     "iopub.status.busy": "2022-03-31T15:13:37.739744Z",
     "iopub.status.idle": "2022-03-31T15:13:40.376327Z",
     "shell.execute_reply": "2022-03-31T15:13:40.376845Z",
     "shell.execute_reply.started": "2022-03-31T14:58:09.175922Z"
    },
    "papermill": {
     "duration": 2.747166,
     "end_time": "2022-03-31T15:13:40.377007",
     "exception": false,
     "start_time": "2022-03-31T15:13:37.629841",
     "status": "completed"
    },
    "tags": []
   },
   "outputs": [
    {
     "data": {
      "text/plain": [
       "Text(0.5, 1.0, 'Heatmap of low correlated features with SalePrice')"
      ]
     },
     "execution_count": 24,
     "metadata": {},
     "output_type": "execute_result"
    },
    {
     "data": {
      "image/png": "[encoded data removed]",
      "text/plain": [
       "<Figure size 960x800 with 2 Axes>"
      ]
     },
     "metadata": {
      "needs_background": "light"
     },
     "output_type": "display_data"
    }
   ],
   "source": [
    "from matplotlib.pyplot import figure\n",
    "figure(figsize=(12, 10), dpi=80)\n",
    "ax = plt.axes()\n",
    "sns.heatmap(df_corr_lc.corr(), vmin=-1, vmax=1, annot=True, cmap='BrBG', ax=ax)\n",
    "ax.set_title('Heatmap of low correlated features with SalePrice')"
   ]
  },
  {
   "cell_type": "code",
   "execution_count": 25,
   "id": "05f14661",
   "metadata": {
    "execution": {
     "iopub.execute_input": "2022-03-31T15:13:40.599450Z",
     "iopub.status.busy": "2022-03-31T15:13:40.598726Z",
     "iopub.status.idle": "2022-03-31T15:13:40.603642Z",
     "shell.execute_reply": "2022-03-31T15:13:40.604138Z",
     "shell.execute_reply.started": "2022-03-31T14:58:13.544209Z"
    },
    "papermill": {
     "duration": 0.117457,
     "end_time": "2022-03-31T15:13:40.604349",
     "exception": false,
     "start_time": "2022-03-31T15:13:40.486892",
     "status": "completed"
    },
    "tags": []
   },
   "outputs": [],
   "source": [
    "# Numerical features\n",
    "# selecting numerical features\n",
    "col_num = ['LotFrontage', 'LotArea', 'YearBuilt', 'YearRemodAdd', 'MasVnrArea',\n",
    "'BsmtFinSF1', 'BsmtFinSF2', 'BsmtUnfSF', 'TotalBsmtSF', '1stFlrSF',\n",
    "'2ndFlrSF', 'LowQualFinSF', 'GrLivArea', 'BsmtFullBath','BsmtHalfBath',\n",
    "'FullBath', 'HalfBath', 'BedroomAbvGr', 'KitchenAbvGr', 'TotRmsAbvGrd', 'Fireplaces',\n",
    "'GarageYrBlt', 'GarageCars', 'GarageArea', 'WoodDeckSF', 'OpenPorchSF',\n",
    "'EnclosedPorch', '3SsnPorch', 'ScreenPorch', 'PoolArea', 'MiscVal', \n",
    "'MoSold', 'YrSold']\n",
    "df_train_num = df_train_dum[col_num]"
   ]
  },
  {
   "cell_type": "markdown",
   "id": "5385d41e",
   "metadata": {
    "papermill": {
     "duration": 0.110987,
     "end_time": "2022-03-31T15:13:40.826381",
     "exception": false,
     "start_time": "2022-03-31T15:13:40.715394",
     "status": "completed"
    },
    "tags": []
   },
   "source": [
    "### 2) Dealing with Categorical features"
   ]
  },
  {
   "cell_type": "code",
   "execution_count": 26,
   "id": "4bd6e787",
   "metadata": {
    "execution": {
     "iopub.execute_input": "2022-03-31T15:13:41.046379Z",
     "iopub.status.busy": "2022-03-31T15:13:41.045756Z",
     "iopub.status.idle": "2022-03-31T15:13:41.051068Z",
     "shell.execute_reply": "2022-03-31T15:13:41.051610Z",
     "shell.execute_reply.started": "2022-03-31T14:58:13.553377Z"
    },
    "papermill": {
     "duration": 0.116722,
     "end_time": "2022-03-31T15:13:41.051782",
     "exception": false,
     "start_time": "2022-03-31T15:13:40.935060",
     "status": "completed"
    },
    "tags": []
   },
   "outputs": [
    {
     "data": {
      "text/plain": [
       "Index(['Id', 'MSSubClass', 'OverallQual', 'OverallCond', 'MSZoning_FV',\n",
       "       'MSZoning_RH', 'MSZoning_RL', 'MSZoning_RM', 'Street_Pave',\n",
       "       'LotShape_IR2',\n",
       "       ...\n",
       "       'SaleType_ConLw', 'SaleType_New', 'SaleType_Oth', 'SaleType_WD',\n",
       "       'SaleCondition_AdjLand', 'SaleCondition_Alloca', 'SaleCondition_Family',\n",
       "       'SaleCondition_Normal', 'SaleCondition_Partial', 'SalePrice'],\n",
       "      dtype='object', length=210)"
      ]
     },
     "execution_count": 26,
     "metadata": {},
     "output_type": "execute_result"
    }
   ],
   "source": [
    "# Categorical features\n",
    "# selecting Categorical features\n",
    "df_train_cat = df_train_dum.drop(col_num, axis=1)\n",
    "df_train_cat.columns"
   ]
  },
  {
   "cell_type": "code",
   "execution_count": 27,
   "id": "e804d258",
   "metadata": {
    "execution": {
     "iopub.execute_input": "2022-03-31T15:13:41.290585Z",
     "iopub.status.busy": "2022-03-31T15:13:41.289673Z",
     "iopub.status.idle": "2022-03-31T15:13:41.293841Z",
     "shell.execute_reply": "2022-03-31T15:13:41.294422Z",
     "shell.execute_reply.started": "2022-03-31T14:58:13.568110Z"
    },
    "papermill": {
     "duration": 0.13381,
     "end_time": "2022-03-31T15:13:41.294639",
     "exception": false,
     "start_time": "2022-03-31T15:13:41.160829",
     "status": "completed"
    },
    "tags": []
   },
   "outputs": [
    {
     "data": {
      "text/plain": [
       "'for i in df_train_cat.columns:\\n    figure(figsize=(10, 8), dpi=80)\\n    sns.set_theme(style=\"whitegrid\")\\n    df_cat_num = df_cat[i].value_counts()\\n    print(\\'Graph for %s: Total = %d\\' % (i, len(df_cat_num)))\\n    ax = sns.barplot(x=df_cat_num.index, y=df_cat_num)\\n    ax.tick_params(axis=\\'x\\', rotation=90)\\n    plt.show(ax)'"
      ]
     },
     "execution_count": 27,
     "metadata": {},
     "output_type": "execute_result"
    }
   ],
   "source": [
    "\"\"\"for i in df_train_cat.columns:\n",
    "    figure(figsize=(10, 8), dpi=80)\n",
    "    sns.set_theme(style=\"whitegrid\")\n",
    "    df_cat_num = df_cat[i].value_counts()\n",
    "    print('Graph for %s: Total = %d' % (i, len(df_cat_num)))\n",
    "    ax = sns.barplot(x=df_cat_num.index, y=df_cat_num)\n",
    "    ax.tick_params(axis='x', rotation=90)\n",
    "    plt.show(ax)\"\"\""
   ]
  },
  {
   "cell_type": "code",
   "execution_count": 28,
   "id": "2612370b",
   "metadata": {
    "execution": {
     "iopub.execute_input": "2022-03-31T15:13:41.520277Z",
     "iopub.status.busy": "2022-03-31T15:13:41.519585Z",
     "iopub.status.idle": "2022-03-31T15:13:41.522606Z",
     "shell.execute_reply": "2022-03-31T15:13:41.523097Z",
     "shell.execute_reply.started": "2022-03-31T14:58:13.577405Z"
    },
    "papermill": {
     "duration": 0.117299,
     "end_time": "2022-03-31T15:13:41.523291",
     "exception": false,
     "start_time": "2022-03-31T15:13:41.405992",
     "status": "completed"
    },
    "tags": []
   },
   "outputs": [
    {
     "data": {
      "text/plain": [
       "\"# Pivot tables of categorical features with respect to SalePrice\\nfor i in df_train_cat.drop('SalePrice', axis=1).columns:\\n    print(pd.pivot_table(df_train_cat, index=i, values='SalePrice').sort_values(by='SalePrice'))\""
      ]
     },
     "execution_count": 28,
     "metadata": {},
     "output_type": "execute_result"
    }
   ],
   "source": [
    "\"\"\"# Pivot tables of categorical features with respect to SalePrice\n",
    "for i in df_train_cat.drop('SalePrice', axis=1).columns:\n",
    "    print(pd.pivot_table(df_train_cat, index=i, values='SalePrice').sort_values(by='SalePrice'))\"\"\""
   ]
  },
  {
   "cell_type": "code",
   "execution_count": 29,
   "id": "ec330e06",
   "metadata": {
    "execution": {
     "iopub.execute_input": "2022-03-31T15:13:41.752771Z",
     "iopub.status.busy": "2022-03-31T15:13:41.752007Z",
     "iopub.status.idle": "2022-03-31T15:13:41.946607Z",
     "shell.execute_reply": "2022-03-31T15:13:41.946051Z",
     "shell.execute_reply.started": "2022-03-31T14:58:13.591432Z"
    },
    "papermill": {
     "duration": 0.311619,
     "end_time": "2022-03-31T15:13:41.946722",
     "exception": false,
     "start_time": "2022-03-31T15:13:41.635103",
     "status": "completed"
    },
    "tags": []
   },
   "outputs": [
    {
     "data": {
      "text/plain": [
       "<AxesSubplot:xlabel='OverallQual'>"
      ]
     },
     "execution_count": 29,
     "metadata": {},
     "output_type": "execute_result"
    },
    {
     "data": {
      "image/png": "[encoded data removed]",
      "text/plain": [
       "<Figure size 432x288 with 1 Axes>"
      ]
     },
     "metadata": {
      "needs_background": "light"
     },
     "output_type": "display_data"
    }
   ],
   "source": [
    "# Evolution of the average SalePrice with the OverallQual feature \n",
    "Avg_price_qual = []\n",
    "for i in range(1,10):\n",
    "    m = df_train_dum[df_train_dum['OverallQual']==i][\"SalePrice\"].mean()\n",
    "    Avg_price_qual.append([i, m])\n",
    "Avg_price_qual = pd.DataFrame(Avg_price_qual, columns=['OverallQual', 'Average SalePrice'])\n",
    "Avg_price_qual.plot(x='OverallQual', y='Average SalePrice')"
   ]
  },
  {
   "cell_type": "code",
   "execution_count": 30,
   "id": "8649ccfa",
   "metadata": {
    "execution": {
     "iopub.execute_input": "2022-03-31T15:13:42.107408Z",
     "iopub.status.busy": "2022-03-31T15:13:42.106846Z",
     "iopub.status.idle": "2022-03-31T15:13:42.306684Z",
     "shell.execute_reply": "2022-03-31T15:13:42.307076Z",
     "shell.execute_reply.started": "2022-03-31T14:58:13.882283Z"
    },
    "papermill": {
     "duration": 0.285198,
     "end_time": "2022-03-31T15:13:42.307236",
     "exception": false,
     "start_time": "2022-03-31T15:13:42.022038",
     "status": "completed"
    },
    "tags": []
   },
   "outputs": [
    {
     "data": {
      "text/plain": [
       "(array([-0.5,  0. ,  0.5,  1. ,  1.5,  2. ,  2.5,  3. ,  3.5,  4. ,  4.5]),\n",
       " [Text(0, 0, ''),\n",
       "  Text(0, 0, ''),\n",
       "  Text(0, 0, ''),\n",
       "  Text(0, 0, ''),\n",
       "  Text(0, 0, ''),\n",
       "  Text(0, 0, ''),\n",
       "  Text(0, 0, ''),\n",
       "  Text(0, 0, ''),\n",
       "  Text(0, 0, ''),\n",
       "  Text(0, 0, ''),\n",
       "  Text(0, 0, '')])"
      ]
     },
     "execution_count": 30,
     "metadata": {},
     "output_type": "execute_result"
    },
    {
     "data": {
      "image/png": "[encoded data removed]",
      "text/plain": [
       "<Figure size 720x720 with 1 Axes>"
      ]
     },
     "metadata": {
      "needs_background": "light"
     },
     "output_type": "display_data"
    }
   ],
   "source": [
    "# Average SalePrice .vs. GarageCars\n",
    "Avg_price_GarCars = []\n",
    "for i in np.sort(df_train_dum['GarageCars'].unique()):\n",
    "    m = df_train_dum[df_train_dum['GarageCars']== i][\"SalePrice\"].mean()\n",
    "    Avg_price_GarCars.append([i, m])\n",
    "Avg_price_GarCars = pd.DataFrame(Avg_price_GarCars, columns=['GarageCars', 'Average SalePrice'])\n",
    "Avg_price_GarCars\n",
    "Avg_price_GarCars.plot(x='GarageCars', y='Average SalePrice', figsize=(10,10))\n",
    "plt.xticks(rotation=90)"
   ]
  },
  {
   "cell_type": "code",
   "execution_count": 31,
   "id": "1c55cb01",
   "metadata": {
    "execution": {
     "iopub.execute_input": "2022-03-31T15:13:42.470130Z",
     "iopub.status.busy": "2022-03-31T15:13:42.464662Z",
     "iopub.status.idle": "2022-03-31T15:13:42.535004Z",
     "shell.execute_reply": "2022-03-31T15:13:42.535395Z",
     "shell.execute_reply.started": "2022-03-31T14:58:14.182319Z"
    },
    "papermill": {
     "duration": 0.150847,
     "end_time": "2022-03-31T15:13:42.535564",
     "exception": false,
     "start_time": "2022-03-31T15:13:42.384717",
     "status": "completed"
    },
    "tags": []
   },
   "outputs": [],
   "source": [
    "corr_cat = []\n",
    "col_cat = []\n",
    "for i in df_train_cat.drop('SalePrice', axis=1).columns:\n",
    "    corr_cat.append(df_train_cat[i].corr(df_train_cat['SalePrice']))\n",
    "    col_cat.append(i)\n",
    "df_cat_corr = pd.DataFrame({'Cat Feature':col_cat, 'Correlation': [abs(ele) for ele in corr_cat]})"
   ]
  },
  {
   "cell_type": "code",
   "execution_count": 32,
   "id": "8cb906fc",
   "metadata": {
    "collapsed": true,
    "execution": {
     "iopub.execute_input": "2022-03-31T15:13:42.698345Z",
     "iopub.status.busy": "2022-03-31T15:13:42.697818Z",
     "iopub.status.idle": "2022-03-31T15:13:42.712399Z",
     "shell.execute_reply": "2022-03-31T15:13:42.711813Z",
     "shell.execute_reply.started": "2022-03-31T14:58:14.279644Z"
    },
    "jupyter": {
     "outputs_hidden": true
    },
    "papermill": {
     "duration": 0.096377,
     "end_time": "2022-03-31T15:13:42.712550",
     "exception": false,
     "start_time": "2022-03-31T15:13:42.616173",
     "status": "completed"
    },
    "tags": []
   },
   "outputs": [
    {
     "data": {
      "text/html": [
       "<div>\n",
       "<style scoped>\n",
       "    .dataframe tbody tr th:only-of-type {\n",
       "        vertical-align: middle;\n",
       "    }\n",
       "\n",
       "    .dataframe tbody tr th {\n",
       "        vertical-align: top;\n",
       "    }\n",
       "\n",
       "    .dataframe thead th {\n",
       "        text-align: right;\n",
       "    }\n",
       "</style>\n",
       "<table border=\"1\" class=\"dataframe\">\n",
       "  <thead>\n",
       "    <tr style=\"text-align: right;\">\n",
       "      <th></th>\n",
       "      <th>Cat Feature</th>\n",
       "      <th>Correlation</th>\n",
       "    </tr>\n",
       "  </thead>\n",
       "  <tbody>\n",
       "    <tr>\n",
       "      <th>147</th>\n",
       "      <td>BsmtFinType2_GLQ</td>\n",
       "      <td>0.000076</td>\n",
       "    </tr>\n",
       "    <tr>\n",
       "      <th>79</th>\n",
       "      <td>RoofMatl_Metal</td>\n",
       "      <td>0.000304</td>\n",
       "    </tr>\n",
       "    <tr>\n",
       "      <th>75</th>\n",
       "      <td>RoofStyle_Mansard</td>\n",
       "      <td>0.000308</td>\n",
       "    </tr>\n",
       "    <tr>\n",
       "      <th>190</th>\n",
       "      <td>GarageCond_Gd</td>\n",
       "      <td>0.000983</td>\n",
       "    </tr>\n",
       "    <tr>\n",
       "      <th>127</th>\n",
       "      <td>Foundation_Wood</td>\n",
       "      <td>0.002711</td>\n",
       "    </tr>\n",
       "    <tr>\n",
       "      <th>...</th>\n",
       "      <td>...</td>\n",
       "      <td>...</td>\n",
       "    </tr>\n",
       "    <tr>\n",
       "      <th>117</th>\n",
       "      <td>ExterQual_Gd</td>\n",
       "      <td>0.452466</td>\n",
       "    </tr>\n",
       "    <tr>\n",
       "      <th>124</th>\n",
       "      <td>Foundation_PConc</td>\n",
       "      <td>0.497734</td>\n",
       "    </tr>\n",
       "    <tr>\n",
       "      <th>168</th>\n",
       "      <td>KitchenQual_TA</td>\n",
       "      <td>0.519298</td>\n",
       "    </tr>\n",
       "    <tr>\n",
       "      <th>118</th>\n",
       "      <td>ExterQual_TA</td>\n",
       "      <td>0.589044</td>\n",
       "    </tr>\n",
       "    <tr>\n",
       "      <th>2</th>\n",
       "      <td>OverallQual</td>\n",
       "      <td>0.790982</td>\n",
       "    </tr>\n",
       "  </tbody>\n",
       "</table>\n",
       "<p>209 rows × 2 columns</p>\n",
       "</div>"
      ],
      "text/plain": [
       "           Cat Feature  Correlation\n",
       "147   BsmtFinType2_GLQ     0.000076\n",
       "79      RoofMatl_Metal     0.000304\n",
       "75   RoofStyle_Mansard     0.000308\n",
       "190      GarageCond_Gd     0.000983\n",
       "127    Foundation_Wood     0.002711\n",
       "..                 ...          ...\n",
       "117       ExterQual_Gd     0.452466\n",
       "124   Foundation_PConc     0.497734\n",
       "168     KitchenQual_TA     0.519298\n",
       "118       ExterQual_TA     0.589044\n",
       "2          OverallQual     0.790982\n",
       "\n",
       "[209 rows x 2 columns]"
      ]
     },
     "execution_count": 32,
     "metadata": {},
     "output_type": "execute_result"
    }
   ],
   "source": [
    "df_cat_corr.sort_values(by='Correlation', ascending=True)"
   ]
  },
  {
   "cell_type": "code",
   "execution_count": 33,
   "id": "08c1f918",
   "metadata": {
    "execution": {
     "iopub.execute_input": "2022-03-31T15:13:42.881363Z",
     "iopub.status.busy": "2022-03-31T15:13:42.880778Z",
     "iopub.status.idle": "2022-03-31T15:13:42.887364Z",
     "shell.execute_reply": "2022-03-31T15:13:42.887814Z",
     "shell.execute_reply.started": "2022-03-31T14:58:14.311906Z"
    },
    "papermill": {
     "duration": 0.094007,
     "end_time": "2022-03-31T15:13:42.887988",
     "exception": false,
     "start_time": "2022-03-31T15:13:42.793981",
     "status": "completed"
    },
    "tags": []
   },
   "outputs": [],
   "source": [
    "# Create DataFrames with categorical and numerical features of the test set\n",
    "df_test_num = df_test_dum[col_num]\n",
    "df_test_cat = df_test_dum.drop(col_num, axis=1)"
   ]
  },
  {
   "cell_type": "code",
   "execution_count": 34,
   "id": "0507937c",
   "metadata": {
    "execution": {
     "iopub.execute_input": "2022-03-31T15:13:43.060666Z",
     "iopub.status.busy": "2022-03-31T15:13:43.059892Z",
     "iopub.status.idle": "2022-03-31T15:13:43.064562Z",
     "shell.execute_reply": "2022-03-31T15:13:43.064998Z",
     "shell.execute_reply.started": "2022-03-31T14:58:17.324325Z"
    },
    "papermill": {
     "duration": 0.094789,
     "end_time": "2022-03-31T15:13:43.065177",
     "exception": false,
     "start_time": "2022-03-31T15:13:42.970388",
     "status": "completed"
    },
    "tags": []
   },
   "outputs": [],
   "source": [
    "# Levels of correlation of categorical features with SalePrice\n",
    "# High correlation\n",
    "col_cat_hc = df_cat_corr[df_cat_corr['Correlation'] >= 0.7]['Cat Feature']\n",
    "# Moderate correlation\n",
    "col_cat_mc = df_cat_corr[(df_cat_corr['Correlation'] >= 0.5) & \n",
    "                  (df_cat_corr['Correlation'] < 0.7)]['Cat Feature']\n",
    "# Low correlation\n",
    "col_cat_lc = df_cat_corr[(df_cat_corr['Correlation'] >= 0.3) & \n",
    "                  (df_cat_corr['Correlation'] < 0.5)]['Cat Feature']\n",
    "# Negligeable correlation\n",
    "col_cat_nc = df_cat_corr[(df_cat_corr['Correlation'] >= 0) & \n",
    "                  (df_cat_corr['Correlation'] < 0.3)]['Cat Feature']"
   ]
  },
  {
   "cell_type": "code",
   "execution_count": 35,
   "id": "2aa18af7",
   "metadata": {
    "execution": {
     "iopub.execute_input": "2022-03-31T15:13:43.225113Z",
     "iopub.status.busy": "2022-03-31T15:13:43.224415Z",
     "iopub.status.idle": "2022-03-31T15:13:43.583245Z",
     "shell.execute_reply": "2022-03-31T15:13:43.582715Z",
     "shell.execute_reply.started": "2022-03-31T14:58:18.139719Z"
    },
    "papermill": {
     "duration": 0.439803,
     "end_time": "2022-03-31T15:13:43.583391",
     "exception": false,
     "start_time": "2022-03-31T15:13:43.143588",
     "status": "completed"
    },
    "tags": []
   },
   "outputs": [],
   "source": [
    "# Cleaning categorical data\n",
    "# Using pivot tables, selecting:\n",
    "# categorcial features with one very highly predominant category\n",
    "vhpred_cat_feat = ['Street', 'LandContour', 'Utilities', 'Condition2',\n",
    "                 'RoofMatl', 'Heating', 'Functional']\n",
    "# categorcial features with one highly predominant category\n",
    "hpred_cat_feat = ['LandSlope', 'Condition1', 'BldgType', 'ExterCond',\n",
    "                 'BsmtCond', 'BsmtFinType2', 'CentralAir', 'Electrical',\n",
    "                 'GarageQual', 'GarageCond', 'PavedDrive', 'MiscFeature',\n",
    "                 'SaleType']\n",
    "# Keeping the categorical features with a correlation >= 0.3 and a very low variance < 1\n",
    "# Droping the categorical features with a correlation < 0.3 and a very low variance < 1\n",
    "# of the concatenated dataframe of df_train_cat and df_test_cat\n",
    "df_less_cat = pd.concat((df_train_cat.drop('SalePrice', axis=1), df_test_cat))\n",
    "col_less_cat = []\n",
    "for i in df_cat_corr['Cat Feature']:\n",
    "    if (i.split('_')[0] in vhpred_cat_feat) or (i.split('_')[0] in hpred_cat_feat):\n",
    "        if float(df_cat_corr[df_cat_corr['Cat Feature']==i]['Correlation']) < 0.3:\n",
    "            pass\n",
    "        elif float(df_cat_corr[df_cat_corr['Cat Feature']==i]['Correlation']) >= 0.3:\n",
    "            col_less_cat.append(i)\n",
    "\n",
    "for i in df_less_cat.columns:\n",
    "    if i in col_less_cat:\n",
    "        pass\n",
    "    else:\n",
    "        if (i.split('_')[0] in vhpred_cat_feat) or (i.split('_')[0] in hpred_cat_feat):\n",
    "            df_less_cat = df_less_cat.drop(columns=i, axis=1)\n",
    "        else:\n",
    "            pass\n",
    "# Droping the categorical features where all the sub-features have a correlation < 0.2\n",
    "for i in df_train_cat.columns:\n",
    "    C = []\n",
    "    col = []\n",
    "    for j in df_less_cat.columns:\n",
    "        if i == j.split('_')[0]:\n",
    "            col.append(j)\n",
    "            C.append(df_less_cat[j].corr(df_train_dum['SalePrice']))\n",
    "    C = pd.DataFrame(C, columns=['Corr'])\n",
    "    #print(C)\n",
    "    if not C.empty:\n",
    "        if ((C['Corr'] < 0.3).all()==True):\n",
    "            df_less_cat = df_less_cat.drop(columns=col, axis=1)"
   ]
  },
  {
   "cell_type": "code",
   "execution_count": 36,
   "id": "d0349cd7",
   "metadata": {
    "execution": {
     "iopub.execute_input": "2022-03-31T15:13:43.759087Z",
     "iopub.status.busy": "2022-03-31T15:13:43.757943Z",
     "iopub.status.idle": "2022-03-31T15:13:43.772220Z",
     "shell.execute_reply": "2022-03-31T15:13:43.771754Z",
     "shell.execute_reply.started": "2022-03-31T14:58:18.817253Z"
    },
    "papermill": {
     "duration": 0.101413,
     "end_time": "2022-03-31T15:13:43.772335",
     "exception": false,
     "start_time": "2022-03-31T15:13:43.670922",
     "status": "completed"
    },
    "tags": []
   },
   "outputs": [
    {
     "data": {
      "text/html": [
       "<div>\n",
       "<style scoped>\n",
       "    .dataframe tbody tr th:only-of-type {\n",
       "        vertical-align: middle;\n",
       "    }\n",
       "\n",
       "    .dataframe tbody tr th {\n",
       "        vertical-align: top;\n",
       "    }\n",
       "\n",
       "    .dataframe thead th {\n",
       "        text-align: right;\n",
       "    }\n",
       "</style>\n",
       "<table border=\"1\" class=\"dataframe\">\n",
       "  <thead>\n",
       "    <tr style=\"text-align: right;\">\n",
       "      <th></th>\n",
       "      <th>OverallQual</th>\n",
       "      <th>MSZoning_FV</th>\n",
       "      <th>MSZoning_RH</th>\n",
       "      <th>MSZoning_RL</th>\n",
       "      <th>MSZoning_RM</th>\n",
       "      <th>LotShape_IR2</th>\n",
       "      <th>LotShape_IR3</th>\n",
       "      <th>LotShape_Reg</th>\n",
       "      <th>LotConfig_CulDSac</th>\n",
       "      <th>LotConfig_FR2</th>\n",
       "      <th>...</th>\n",
       "      <th>GarageType_NA</th>\n",
       "      <th>GarageFinish_NA</th>\n",
       "      <th>GarageFinish_RFn</th>\n",
       "      <th>GarageFinish_Unf</th>\n",
       "      <th>SaleType_New</th>\n",
       "      <th>SaleCondition_AdjLand</th>\n",
       "      <th>SaleCondition_Alloca</th>\n",
       "      <th>SaleCondition_Family</th>\n",
       "      <th>SaleCondition_Normal</th>\n",
       "      <th>SaleCondition_Partial</th>\n",
       "    </tr>\n",
       "  </thead>\n",
       "  <tbody>\n",
       "    <tr>\n",
       "      <th>0</th>\n",
       "      <td>7</td>\n",
       "      <td>0</td>\n",
       "      <td>0</td>\n",
       "      <td>1</td>\n",
       "      <td>0</td>\n",
       "      <td>0</td>\n",
       "      <td>0</td>\n",
       "      <td>1</td>\n",
       "      <td>0</td>\n",
       "      <td>0</td>\n",
       "      <td>...</td>\n",
       "      <td>0</td>\n",
       "      <td>0</td>\n",
       "      <td>1</td>\n",
       "      <td>0</td>\n",
       "      <td>0</td>\n",
       "      <td>0</td>\n",
       "      <td>0</td>\n",
       "      <td>0</td>\n",
       "      <td>1</td>\n",
       "      <td>0</td>\n",
       "    </tr>\n",
       "    <tr>\n",
       "      <th>1</th>\n",
       "      <td>6</td>\n",
       "      <td>0</td>\n",
       "      <td>0</td>\n",
       "      <td>1</td>\n",
       "      <td>0</td>\n",
       "      <td>0</td>\n",
       "      <td>0</td>\n",
       "      <td>1</td>\n",
       "      <td>0</td>\n",
       "      <td>1</td>\n",
       "      <td>...</td>\n",
       "      <td>0</td>\n",
       "      <td>0</td>\n",
       "      <td>1</td>\n",
       "      <td>0</td>\n",
       "      <td>0</td>\n",
       "      <td>0</td>\n",
       "      <td>0</td>\n",
       "      <td>0</td>\n",
       "      <td>1</td>\n",
       "      <td>0</td>\n",
       "    </tr>\n",
       "    <tr>\n",
       "      <th>2</th>\n",
       "      <td>7</td>\n",
       "      <td>0</td>\n",
       "      <td>0</td>\n",
       "      <td>1</td>\n",
       "      <td>0</td>\n",
       "      <td>0</td>\n",
       "      <td>0</td>\n",
       "      <td>0</td>\n",
       "      <td>0</td>\n",
       "      <td>0</td>\n",
       "      <td>...</td>\n",
       "      <td>0</td>\n",
       "      <td>0</td>\n",
       "      <td>1</td>\n",
       "      <td>0</td>\n",
       "      <td>0</td>\n",
       "      <td>0</td>\n",
       "      <td>0</td>\n",
       "      <td>0</td>\n",
       "      <td>1</td>\n",
       "      <td>0</td>\n",
       "    </tr>\n",
       "    <tr>\n",
       "      <th>3</th>\n",
       "      <td>7</td>\n",
       "      <td>0</td>\n",
       "      <td>0</td>\n",
       "      <td>1</td>\n",
       "      <td>0</td>\n",
       "      <td>0</td>\n",
       "      <td>0</td>\n",
       "      <td>0</td>\n",
       "      <td>0</td>\n",
       "      <td>0</td>\n",
       "      <td>...</td>\n",
       "      <td>0</td>\n",
       "      <td>0</td>\n",
       "      <td>0</td>\n",
       "      <td>1</td>\n",
       "      <td>0</td>\n",
       "      <td>0</td>\n",
       "      <td>0</td>\n",
       "      <td>0</td>\n",
       "      <td>0</td>\n",
       "      <td>0</td>\n",
       "    </tr>\n",
       "    <tr>\n",
       "      <th>4</th>\n",
       "      <td>8</td>\n",
       "      <td>0</td>\n",
       "      <td>0</td>\n",
       "      <td>1</td>\n",
       "      <td>0</td>\n",
       "      <td>0</td>\n",
       "      <td>0</td>\n",
       "      <td>0</td>\n",
       "      <td>0</td>\n",
       "      <td>1</td>\n",
       "      <td>...</td>\n",
       "      <td>0</td>\n",
       "      <td>0</td>\n",
       "      <td>1</td>\n",
       "      <td>0</td>\n",
       "      <td>0</td>\n",
       "      <td>0</td>\n",
       "      <td>0</td>\n",
       "      <td>0</td>\n",
       "      <td>1</td>\n",
       "      <td>0</td>\n",
       "    </tr>\n",
       "  </tbody>\n",
       "</table>\n",
       "<p>5 rows × 124 columns</p>\n",
       "</div>"
      ],
      "text/plain": [
       "   OverallQual  MSZoning_FV  MSZoning_RH  MSZoning_RL  MSZoning_RM  \\\n",
       "0            7            0            0            1            0   \n",
       "1            6            0            0            1            0   \n",
       "2            7            0            0            1            0   \n",
       "3            7            0            0            1            0   \n",
       "4            8            0            0            1            0   \n",
       "\n",
       "   LotShape_IR2  LotShape_IR3  LotShape_Reg  LotConfig_CulDSac  LotConfig_FR2  \\\n",
       "0             0             0             1                  0              0   \n",
       "1             0             0             1                  0              1   \n",
       "2             0             0             0                  0              0   \n",
       "3             0             0             0                  0              0   \n",
       "4             0             0             0                  0              1   \n",
       "\n",
       "   ...  GarageType_NA  GarageFinish_NA  GarageFinish_RFn  GarageFinish_Unf  \\\n",
       "0  ...              0                0                 1                 0   \n",
       "1  ...              0                0                 1                 0   \n",
       "2  ...              0                0                 1                 0   \n",
       "3  ...              0                0                 0                 1   \n",
       "4  ...              0                0                 1                 0   \n",
       "\n",
       "   SaleType_New  SaleCondition_AdjLand  SaleCondition_Alloca  \\\n",
       "0             0                      0                     0   \n",
       "1             0                      0                     0   \n",
       "2             0                      0                     0   \n",
       "3             0                      0                     0   \n",
       "4             0                      0                     0   \n",
       "\n",
       "   SaleCondition_Family  SaleCondition_Normal  SaleCondition_Partial  \n",
       "0                     0                     1                      0  \n",
       "1                     0                     1                      0  \n",
       "2                     0                     1                      0  \n",
       "3                     0                     0                      0  \n",
       "4                     0                     1                      0  \n",
       "\n",
       "[5 rows x 124 columns]"
      ]
     },
     "execution_count": 36,
     "metadata": {},
     "output_type": "execute_result"
    }
   ],
   "source": [
    "df_less_cat.head()"
   ]
  },
  {
   "cell_type": "markdown",
   "id": "4f680601",
   "metadata": {
    "papermill": {
     "duration": 0.077642,
     "end_time": "2022-03-31T15:13:43.929169",
     "exception": false,
     "start_time": "2022-03-31T15:13:43.851527",
     "status": "completed"
    },
    "tags": []
   },
   "source": [
    "### 3) Dealing with numerical features "
   ]
  },
  {
   "cell_type": "code",
   "execution_count": 37,
   "id": "27e8b828",
   "metadata": {
    "execution": {
     "iopub.execute_input": "2022-03-31T15:13:44.095472Z",
     "iopub.status.busy": "2022-03-31T15:13:44.094942Z",
     "iopub.status.idle": "2022-03-31T15:13:44.311663Z",
     "shell.execute_reply": "2022-03-31T15:13:44.310965Z",
     "shell.execute_reply.started": "2022-03-31T14:58:20.426551Z"
    },
    "papermill": {
     "duration": 0.30418,
     "end_time": "2022-03-31T15:13:44.311820",
     "exception": false,
     "start_time": "2022-03-31T15:13:44.007640",
     "status": "completed"
    },
    "tags": []
   },
   "outputs": [
    {
     "data": {
      "text/plain": [
       "(array([-1.,  0.,  1.,  2.,  3.,  4.,  5.,  6.,  7.,  8.,  9.]),\n",
       " [Text(-1.0, 0, '(4580.0, 5111.0)'),\n",
       "  Text(0.0, 0, '(334.0, 865.0)'),\n",
       "  Text(1.0, 0, '(865.0, 1396.0)'),\n",
       "  Text(2.0, 0, '(1396.0, 1926.0)'),\n",
       "  Text(3.0, 0, '(1926.0, 2457.0)'),\n",
       "  Text(4.0, 0, '(2457.0, 2988.0)'),\n",
       "  Text(5.0, 0, '(2988.0, 3519.0)'),\n",
       "  Text(6.0, 0, '(3519.0, 4050.0)'),\n",
       "  Text(7.0, 0, '(4050.0, 4580.0)'),\n",
       "  Text(8.0, 0, '(4580.0, 5111.0)'),\n",
       "  Text(9.0, 0, '')])"
      ]
     },
     "execution_count": 37,
     "metadata": {},
     "output_type": "execute_result"
    },
    {
     "data": {
      "image/png": "[encoded data removed]",
      "text/plain": [
       "<Figure size 720x720 with 1 Axes>"
      ]
     },
     "metadata": {
      "needs_background": "light"
     },
     "output_type": "display_data"
    }
   ],
   "source": [
    "# Evolution of the average SalePrice with the GrLivArea\n",
    "Avg_price_GrLivArea = []\n",
    "min_Area = df_train_dum['GrLivArea'].unique().min()\n",
    "max_Area = df_train_dum['GrLivArea'].unique().max()\n",
    "width_Area = (max_Area-min_Area)/10\n",
    "for i in range(1,10):\n",
    "    mi = np.round((min_Area+width_Area*(i-1)))\n",
    "    ma = np.round((min_Area+width_Area*i))\n",
    "    m = df_train_dum[(df_train_dum['GrLivArea']>= mi) & (df_train_dum['GrLivArea']< ma)][\"SalePrice\"].mean()\n",
    "    Avg_price_GrLivArea.append([(mi,ma), m])\n",
    "Avg_price_GrLivArea = pd.DataFrame(Avg_price_GrLivArea, columns=['GrLivArea', 'Average SalePrice'])\n",
    "Avg_price_GrLivArea\n",
    "Avg_price_GrLivArea.plot(x='GrLivArea', y='Average SalePrice', figsize=(10,10))\n",
    "plt.xticks(rotation=90)"
   ]
  },
  {
   "cell_type": "code",
   "execution_count": 38,
   "id": "52c8cd3b",
   "metadata": {
    "execution": {
     "iopub.execute_input": "2022-03-31T15:13:44.563040Z",
     "iopub.status.busy": "2022-03-31T15:13:44.561830Z",
     "iopub.status.idle": "2022-03-31T15:13:44.748744Z",
     "shell.execute_reply": "2022-03-31T15:13:44.749111Z",
     "shell.execute_reply.started": "2022-03-31T14:58:21.036773Z"
    },
    "papermill": {
     "duration": 0.314056,
     "end_time": "2022-03-31T15:13:44.749277",
     "exception": false,
     "start_time": "2022-03-31T15:13:44.435221",
     "status": "completed"
    },
    "tags": []
   },
   "outputs": [
    {
     "data": {
      "text/plain": [
       "(array([-0.5,  0. ,  0.5,  1. ,  1.5,  2. ,  2.5,  3. ,  3.5]),\n",
       " [Text(-0.5, 0, ''),\n",
       "  Text(0.0, 0, '(0.0, 284.0)'),\n",
       "  Text(0.5, 0, ''),\n",
       "  Text(1.0, 0, '(284.0, 567.0)'),\n",
       "  Text(1.5, 0, ''),\n",
       "  Text(2.0, 0, '(567.0, 851.0)'),\n",
       "  Text(2.5, 0, ''),\n",
       "  Text(3.0, 0, '(851.0, 1134.0)'),\n",
       "  Text(3.5, 0, '')])"
      ]
     },
     "execution_count": 38,
     "metadata": {},
     "output_type": "execute_result"
    },
    {
     "data": {
      "image/png": "[encoded data removed]",
      "text/plain": [
       "<Figure size 720x720 with 1 Axes>"
      ]
     },
     "metadata": {
      "needs_background": "light"
     },
     "output_type": "display_data"
    }
   ],
   "source": [
    "# Average SalePrice .vs. intervals of GarageArea\n",
    "Avg_price_GrAr = []\n",
    "min_Area = df_train_dum['GarageArea'].unique().min()\n",
    "max_Area = df_train_dum['GarageArea'].unique().max()\n",
    "width_Area = (max_Area-min_Area)/5\n",
    "for i in range(1,5):\n",
    "    mi = np.round((min_Area+width_Area*(i-1)))\n",
    "    ma = np.round((min_Area+width_Area*i))\n",
    "    m = df_train_dum[(df_train_dum['GarageArea']>= mi) & (df_train_dum['GarageArea']< ma)][\"SalePrice\"].mean()\n",
    "    Avg_price_GrAr.append([(mi,ma), m])\n",
    "Avg_price_GrAr = pd.DataFrame(Avg_price_GrAr, columns=['GarageArea', 'Average SalePrice'])\n",
    "Avg_price_GrAr\n",
    "Avg_price_GrAr.plot(x='GarageArea', y='Average SalePrice', figsize=(10,10))\n",
    "plt.xticks(rotation=90)"
   ]
  },
  {
   "cell_type": "code",
   "execution_count": 39,
   "id": "f6e10643",
   "metadata": {
    "execution": {
     "iopub.execute_input": "2022-03-31T15:13:44.918455Z",
     "iopub.status.busy": "2022-03-31T15:13:44.917698Z",
     "iopub.status.idle": "2022-03-31T15:13:45.113466Z",
     "shell.execute_reply": "2022-03-31T15:13:45.113827Z",
     "shell.execute_reply.started": "2022-03-31T14:58:21.608983Z"
    },
    "papermill": {
     "duration": 0.281522,
     "end_time": "2022-03-31T15:13:45.113967",
     "exception": false,
     "start_time": "2022-03-31T15:13:44.832445",
     "status": "completed"
    },
    "tags": []
   },
   "outputs": [
    {
     "data": {
      "text/plain": [
       "(array([-1.,  0.,  1.,  2.,  3.,  4.,  5.,  6.]),\n",
       " [Text(-1.0, 0, '(4888.0, 5499.0)'),\n",
       "  Text(0.0, 0, '(0.0, 611.0)'),\n",
       "  Text(1.0, 0, '(611.0, 1222.0)'),\n",
       "  Text(2.0, 0, '(1222.0, 1833.0)'),\n",
       "  Text(3.0, 0, '(1833.0, 2444.0)'),\n",
       "  Text(4.0, 0, '(2444.0, 3055.0)'),\n",
       "  Text(5.0, 0, '(3055.0, 3666.0)'),\n",
       "  Text(6.0, 0, '(3666.0, 4277.0)')])"
      ]
     },
     "execution_count": 39,
     "metadata": {},
     "output_type": "execute_result"
    },
    {
     "data": {
      "image/png": "[encoded data removed]",
      "text/plain": [
       "<Figure size 720x720 with 1 Axes>"
      ]
     },
     "metadata": {
      "needs_background": "light"
     },
     "output_type": "display_data"
    }
   ],
   "source": [
    "# Average SalePrice .vs. intervals of TotalBsmtSF\n",
    "Avg_price_TBSF = []\n",
    "min_Area = df_train_dum['TotalBsmtSF'].unique().min()\n",
    "max_Area = df_train_dum['TotalBsmtSF'].unique().max()\n",
    "width_Area = (max_Area-min_Area)/10\n",
    "for i in range(1,10):\n",
    "    mi = np.round((min_Area+width_Area*(i-1)))\n",
    "    ma = np.round((min_Area+width_Area*i))\n",
    "    m = df_train_dum[(df_train_dum['TotalBsmtSF']>= mi) & (df_train_dum['TotalBsmtSF']< ma)][\"SalePrice\"].mean()\n",
    "    Avg_price_TBSF.append([(mi,ma), m])\n",
    "Avg_price_TBSF = pd.DataFrame(Avg_price_TBSF, columns=['TotalBsmtSF', 'Average SalePrice'])\n",
    "Avg_price_TBSF.plot(x='TotalBsmtSF', y='Average SalePrice', figsize=(10,10))\n",
    "plt.xticks(rotation=90)"
   ]
  },
  {
   "cell_type": "code",
   "execution_count": 40,
   "id": "8d22de6a",
   "metadata": {
    "execution": {
     "iopub.execute_input": "2022-03-31T15:13:45.290749Z",
     "iopub.status.busy": "2022-03-31T15:13:45.290020Z",
     "iopub.status.idle": "2022-03-31T15:13:45.474134Z",
     "shell.execute_reply": "2022-03-31T15:13:45.473663Z",
     "shell.execute_reply.started": "2022-03-31T14:58:21.992575Z"
    },
    "papermill": {
     "duration": 0.274343,
     "end_time": "2022-03-31T15:13:45.474298",
     "exception": false,
     "start_time": "2022-03-31T15:13:45.199955",
     "status": "completed"
    },
    "tags": []
   },
   "outputs": [
    {
     "data": {
      "text/plain": [
       "(array([-1.,  0.,  1.,  2.,  3.,  4.,  5.,  6.,  7.]),\n",
       " [Text(-1.0, 0, '(3820.0, 4256.0)'),\n",
       "  Text(0.0, 0, '(334.0, 770.0)'),\n",
       "  Text(1.0, 0, '(770.0, 1206.0)'),\n",
       "  Text(2.0, 0, '(1206.0, 1641.0)'),\n",
       "  Text(3.0, 0, '(1641.0, 2077.0)'),\n",
       "  Text(4.0, 0, '(2077.0, 2513.0)'),\n",
       "  Text(5.0, 0, '(2513.0, 2949.0)'),\n",
       "  Text(6.0, 0, '(2949.0, 3385.0)'),\n",
       "  Text(7.0, 0, '(3385.0, 3820.0)')])"
      ]
     },
     "execution_count": 40,
     "metadata": {},
     "output_type": "execute_result"
    },
    {
     "data": {
      "image/png": "[encoded data removed]",
      "text/plain": [
       "<Figure size 720x720 with 1 Axes>"
      ]
     },
     "metadata": {
      "needs_background": "light"
     },
     "output_type": "display_data"
    }
   ],
   "source": [
    "# Average SalePrice .vs. intervals of 1stFlrSF\n",
    "Avg_price_1FSF = []\n",
    "min_Area = df_train_dum['1stFlrSF'].unique().min()\n",
    "max_Area = df_train_dum['1stFlrSF'].unique().max()\n",
    "width_Area = (max_Area-min_Area)/10\n",
    "for i in range(1,10):\n",
    "    mi = np.round((min_Area+width_Area*(i-1)))\n",
    "    ma = np.round((min_Area+width_Area*i))\n",
    "    m = df_train_dum[(df_train_dum['1stFlrSF']>= mi) & (df_train_dum['1stFlrSF']< ma)][\"SalePrice\"].mean()\n",
    "    Avg_price_1FSF.append([(mi,ma), m])\n",
    "Avg_price_1FSF = pd.DataFrame(Avg_price_1FSF, columns=['1stFlrSF', 'Average SalePrice'])\n",
    "Avg_price_1FSF.plot(x='1stFlrSF', y='Average SalePrice', figsize=(10,10))\n",
    "plt.xticks(rotation=90)"
   ]
  },
  {
   "cell_type": "code",
   "execution_count": 41,
   "id": "59e012ae",
   "metadata": {
    "execution": {
     "iopub.execute_input": "2022-03-31T15:13:45.654327Z",
     "iopub.status.busy": "2022-03-31T15:13:45.653613Z",
     "iopub.status.idle": "2022-03-31T15:13:45.668659Z",
     "shell.execute_reply": "2022-03-31T15:13:45.669028Z",
     "shell.execute_reply.started": "2022-03-31T14:58:22.471969Z"
    },
    "papermill": {
     "duration": 0.109665,
     "end_time": "2022-03-31T15:13:45.669209",
     "exception": false,
     "start_time": "2022-03-31T15:13:45.559544",
     "status": "completed"
    },
    "tags": []
   },
   "outputs": [],
   "source": [
    "# Calculating correlations between numerical features and SalePrice\n",
    "corr_num = []\n",
    "col_num = []\n",
    "for i in df_train_num.columns:\n",
    "    corr_num.append(df_train_num[i].corr(df_train_dum['SalePrice']))\n",
    "    col_num.append(i)\n",
    "df_corr_num = pd.DataFrame({'Num Feature':col_num, 'Correlation': [abs(ele) for ele in corr_num]})"
   ]
  },
  {
   "cell_type": "code",
   "execution_count": 42,
   "id": "b8ccd8e8",
   "metadata": {
    "execution": {
     "iopub.execute_input": "2022-03-31T15:13:45.852302Z",
     "iopub.status.busy": "2022-03-31T15:13:45.851570Z",
     "iopub.status.idle": "2022-03-31T15:13:45.875132Z",
     "shell.execute_reply": "2022-03-31T15:13:45.874463Z",
     "shell.execute_reply.started": "2022-03-31T14:58:22.934182Z"
    },
    "papermill": {
     "duration": 0.118195,
     "end_time": "2022-03-31T15:13:45.875288",
     "exception": false,
     "start_time": "2022-03-31T15:13:45.757093",
     "status": "completed"
    },
    "tags": []
   },
   "outputs": [],
   "source": [
    "# Removing features with negligeable correlation < 0.3 and a variance < 1\n",
    "df_num_var = df_train_num.var()\n",
    "df_num_var = df_num_var.to_frame()\n",
    "df_num_var.reset_index(inplace=True)\n",
    "df_num_var = df_num_var.rename(columns = {'index':'Num Feature', 0: 'Variance'})\n",
    "df_num_var_corr = pd.concat([df_corr_num, df_num_var['Variance']], axis=1)\n",
    "col_less_num = df_num_var_corr.loc[(df_num_var_corr['Variance'] > 1) & (df_num_var_corr['Correlation'] >= 0.3)]['Num Feature']\n",
    "# Concatenate the numerical features of the train and test sets\n",
    "df_num = pd.concat((df_train_num, df_test_num))\n",
    "df_less_num = pd.DataFrame()\n",
    "for i in df_num.columns:\n",
    "    if i not in np.array(col_less_num):\n",
    "        df_less_num.loc[:, i] = df_num[i]\n",
    "    else:\n",
    "        pass"
   ]
  },
  {
   "cell_type": "code",
   "execution_count": 43,
   "id": "396f12cd",
   "metadata": {
    "execution": {
     "iopub.execute_input": "2022-03-31T15:13:46.129826Z",
     "iopub.status.busy": "2022-03-31T15:13:46.129339Z",
     "iopub.status.idle": "2022-03-31T15:13:46.148735Z",
     "shell.execute_reply": "2022-03-31T15:13:46.149103Z",
     "shell.execute_reply.started": "2022-03-31T14:58:23.427532Z"
    },
    "papermill": {
     "duration": 0.149596,
     "end_time": "2022-03-31T15:13:46.149273",
     "exception": false,
     "start_time": "2022-03-31T15:13:45.999677",
     "status": "completed"
    },
    "tags": []
   },
   "outputs": [
    {
     "data": {
      "text/html": [
       "<div>\n",
       "<style scoped>\n",
       "    .dataframe tbody tr th:only-of-type {\n",
       "        vertical-align: middle;\n",
       "    }\n",
       "\n",
       "    .dataframe tbody tr th {\n",
       "        vertical-align: top;\n",
       "    }\n",
       "\n",
       "    .dataframe thead th {\n",
       "        text-align: right;\n",
       "    }\n",
       "</style>\n",
       "<table border=\"1\" class=\"dataframe\">\n",
       "  <thead>\n",
       "    <tr style=\"text-align: right;\">\n",
       "      <th></th>\n",
       "      <th>LotArea</th>\n",
       "      <th>BsmtFinSF2</th>\n",
       "      <th>BsmtUnfSF</th>\n",
       "      <th>LowQualFinSF</th>\n",
       "      <th>BsmtFullBath</th>\n",
       "      <th>BsmtHalfBath</th>\n",
       "      <th>FullBath</th>\n",
       "      <th>HalfBath</th>\n",
       "      <th>BedroomAbvGr</th>\n",
       "      <th>KitchenAbvGr</th>\n",
       "      <th>Fireplaces</th>\n",
       "      <th>GarageYrBlt</th>\n",
       "      <th>GarageCars</th>\n",
       "      <th>EnclosedPorch</th>\n",
       "      <th>3SsnPorch</th>\n",
       "      <th>ScreenPorch</th>\n",
       "      <th>PoolArea</th>\n",
       "      <th>MiscVal</th>\n",
       "      <th>MoSold</th>\n",
       "      <th>YrSold</th>\n",
       "    </tr>\n",
       "  </thead>\n",
       "  <tbody>\n",
       "    <tr>\n",
       "      <th>0</th>\n",
       "      <td>8450</td>\n",
       "      <td>0.0</td>\n",
       "      <td>150.0</td>\n",
       "      <td>0</td>\n",
       "      <td>1.0</td>\n",
       "      <td>0.0</td>\n",
       "      <td>2</td>\n",
       "      <td>1</td>\n",
       "      <td>3</td>\n",
       "      <td>1</td>\n",
       "      <td>0</td>\n",
       "      <td>2003.0</td>\n",
       "      <td>2.0</td>\n",
       "      <td>0</td>\n",
       "      <td>0</td>\n",
       "      <td>0</td>\n",
       "      <td>0</td>\n",
       "      <td>0</td>\n",
       "      <td>2</td>\n",
       "      <td>2008</td>\n",
       "    </tr>\n",
       "    <tr>\n",
       "      <th>1</th>\n",
       "      <td>9600</td>\n",
       "      <td>0.0</td>\n",
       "      <td>284.0</td>\n",
       "      <td>0</td>\n",
       "      <td>0.0</td>\n",
       "      <td>1.0</td>\n",
       "      <td>2</td>\n",
       "      <td>0</td>\n",
       "      <td>3</td>\n",
       "      <td>1</td>\n",
       "      <td>1</td>\n",
       "      <td>1976.0</td>\n",
       "      <td>2.0</td>\n",
       "      <td>0</td>\n",
       "      <td>0</td>\n",
       "      <td>0</td>\n",
       "      <td>0</td>\n",
       "      <td>0</td>\n",
       "      <td>5</td>\n",
       "      <td>2007</td>\n",
       "    </tr>\n",
       "    <tr>\n",
       "      <th>2</th>\n",
       "      <td>11250</td>\n",
       "      <td>0.0</td>\n",
       "      <td>434.0</td>\n",
       "      <td>0</td>\n",
       "      <td>1.0</td>\n",
       "      <td>0.0</td>\n",
       "      <td>2</td>\n",
       "      <td>1</td>\n",
       "      <td>3</td>\n",
       "      <td>1</td>\n",
       "      <td>1</td>\n",
       "      <td>2001.0</td>\n",
       "      <td>2.0</td>\n",
       "      <td>0</td>\n",
       "      <td>0</td>\n",
       "      <td>0</td>\n",
       "      <td>0</td>\n",
       "      <td>0</td>\n",
       "      <td>9</td>\n",
       "      <td>2008</td>\n",
       "    </tr>\n",
       "    <tr>\n",
       "      <th>3</th>\n",
       "      <td>9550</td>\n",
       "      <td>0.0</td>\n",
       "      <td>540.0</td>\n",
       "      <td>0</td>\n",
       "      <td>1.0</td>\n",
       "      <td>0.0</td>\n",
       "      <td>1</td>\n",
       "      <td>0</td>\n",
       "      <td>3</td>\n",
       "      <td>1</td>\n",
       "      <td>1</td>\n",
       "      <td>1998.0</td>\n",
       "      <td>3.0</td>\n",
       "      <td>272</td>\n",
       "      <td>0</td>\n",
       "      <td>0</td>\n",
       "      <td>0</td>\n",
       "      <td>0</td>\n",
       "      <td>2</td>\n",
       "      <td>2006</td>\n",
       "    </tr>\n",
       "    <tr>\n",
       "      <th>4</th>\n",
       "      <td>14260</td>\n",
       "      <td>0.0</td>\n",
       "      <td>490.0</td>\n",
       "      <td>0</td>\n",
       "      <td>1.0</td>\n",
       "      <td>0.0</td>\n",
       "      <td>2</td>\n",
       "      <td>1</td>\n",
       "      <td>4</td>\n",
       "      <td>1</td>\n",
       "      <td>1</td>\n",
       "      <td>2000.0</td>\n",
       "      <td>3.0</td>\n",
       "      <td>0</td>\n",
       "      <td>0</td>\n",
       "      <td>0</td>\n",
       "      <td>0</td>\n",
       "      <td>0</td>\n",
       "      <td>12</td>\n",
       "      <td>2008</td>\n",
       "    </tr>\n",
       "  </tbody>\n",
       "</table>\n",
       "</div>"
      ],
      "text/plain": [
       "   LotArea  BsmtFinSF2  BsmtUnfSF  LowQualFinSF  BsmtFullBath  BsmtHalfBath  \\\n",
       "0     8450         0.0      150.0             0           1.0           0.0   \n",
       "1     9600         0.0      284.0             0           0.0           1.0   \n",
       "2    11250         0.0      434.0             0           1.0           0.0   \n",
       "3     9550         0.0      540.0             0           1.0           0.0   \n",
       "4    14260         0.0      490.0             0           1.0           0.0   \n",
       "\n",
       "   FullBath  HalfBath  BedroomAbvGr  KitchenAbvGr  Fireplaces  GarageYrBlt  \\\n",
       "0         2         1             3             1           0       2003.0   \n",
       "1         2         0             3             1           1       1976.0   \n",
       "2         2         1             3             1           1       2001.0   \n",
       "3         1         0             3             1           1       1998.0   \n",
       "4         2         1             4             1           1       2000.0   \n",
       "\n",
       "   GarageCars  EnclosedPorch  3SsnPorch  ScreenPorch  PoolArea  MiscVal  \\\n",
       "0         2.0              0          0            0         0        0   \n",
       "1         2.0              0          0            0         0        0   \n",
       "2         2.0              0          0            0         0        0   \n",
       "3         3.0            272          0            0         0        0   \n",
       "4         3.0              0          0            0         0        0   \n",
       "\n",
       "   MoSold  YrSold  \n",
       "0       2    2008  \n",
       "1       5    2007  \n",
       "2       9    2008  \n",
       "3       2    2006  \n",
       "4      12    2008  "
      ]
     },
     "execution_count": 43,
     "metadata": {},
     "output_type": "execute_result"
    }
   ],
   "source": [
    "df_less_num.head()"
   ]
  },
  {
   "cell_type": "code",
   "execution_count": 44,
   "id": "3299d76c",
   "metadata": {
    "execution": {
     "iopub.execute_input": "2022-03-31T15:13:46.329463Z",
     "iopub.status.busy": "2022-03-31T15:13:46.328774Z",
     "iopub.status.idle": "2022-03-31T15:13:46.335578Z",
     "shell.execute_reply": "2022-03-31T15:13:46.335959Z",
     "shell.execute_reply.started": "2022-03-31T14:58:24.216742Z"
    },
    "papermill": {
     "duration": 0.098612,
     "end_time": "2022-03-31T15:13:46.336120",
     "exception": false,
     "start_time": "2022-03-31T15:13:46.237508",
     "status": "completed"
    },
    "tags": []
   },
   "outputs": [],
   "source": [
    "df_out = pd.concat([df_in['Id'], df_less_cat, df_less_num], axis=1)    \n",
    "df_out.set_index = df_in['Id']\n",
    "df_out.index.name = 'Id'"
   ]
  },
  {
   "cell_type": "code",
   "execution_count": 45,
   "id": "336c2bda",
   "metadata": {
    "execution": {
     "iopub.execute_input": "2022-03-31T15:13:46.518558Z",
     "iopub.status.busy": "2022-03-31T15:13:46.518022Z",
     "iopub.status.idle": "2022-03-31T15:13:46.545810Z",
     "shell.execute_reply": "2022-03-31T15:13:46.546217Z",
     "shell.execute_reply.started": "2022-03-31T14:58:24.798490Z"
    },
    "papermill": {
     "duration": 0.11965,
     "end_time": "2022-03-31T15:13:46.546351",
     "exception": false,
     "start_time": "2022-03-31T15:13:46.426701",
     "status": "completed"
    },
    "tags": []
   },
   "outputs": [
    {
     "data": {
      "text/html": [
       "<div>\n",
       "<style scoped>\n",
       "    .dataframe tbody tr th:only-of-type {\n",
       "        vertical-align: middle;\n",
       "    }\n",
       "\n",
       "    .dataframe tbody tr th {\n",
       "        vertical-align: top;\n",
       "    }\n",
       "\n",
       "    .dataframe thead th {\n",
       "        text-align: right;\n",
       "    }\n",
       "</style>\n",
       "<table border=\"1\" class=\"dataframe\">\n",
       "  <thead>\n",
       "    <tr style=\"text-align: right;\">\n",
       "      <th></th>\n",
       "      <th>Id</th>\n",
       "      <th>OverallQual</th>\n",
       "      <th>MSZoning_FV</th>\n",
       "      <th>MSZoning_RH</th>\n",
       "      <th>MSZoning_RL</th>\n",
       "      <th>MSZoning_RM</th>\n",
       "      <th>LotShape_IR2</th>\n",
       "      <th>LotShape_IR3</th>\n",
       "      <th>LotShape_Reg</th>\n",
       "      <th>LotConfig_CulDSac</th>\n",
       "      <th>...</th>\n",
       "      <th>Fireplaces</th>\n",
       "      <th>GarageYrBlt</th>\n",
       "      <th>GarageCars</th>\n",
       "      <th>EnclosedPorch</th>\n",
       "      <th>3SsnPorch</th>\n",
       "      <th>ScreenPorch</th>\n",
       "      <th>PoolArea</th>\n",
       "      <th>MiscVal</th>\n",
       "      <th>MoSold</th>\n",
       "      <th>YrSold</th>\n",
       "    </tr>\n",
       "    <tr>\n",
       "      <th>Id</th>\n",
       "      <th></th>\n",
       "      <th></th>\n",
       "      <th></th>\n",
       "      <th></th>\n",
       "      <th></th>\n",
       "      <th></th>\n",
       "      <th></th>\n",
       "      <th></th>\n",
       "      <th></th>\n",
       "      <th></th>\n",
       "      <th></th>\n",
       "      <th></th>\n",
       "      <th></th>\n",
       "      <th></th>\n",
       "      <th></th>\n",
       "      <th></th>\n",
       "      <th></th>\n",
       "      <th></th>\n",
       "      <th></th>\n",
       "      <th></th>\n",
       "      <th></th>\n",
       "    </tr>\n",
       "  </thead>\n",
       "  <tbody>\n",
       "    <tr>\n",
       "      <th>0</th>\n",
       "      <td>1</td>\n",
       "      <td>7</td>\n",
       "      <td>0</td>\n",
       "      <td>0</td>\n",
       "      <td>1</td>\n",
       "      <td>0</td>\n",
       "      <td>0</td>\n",
       "      <td>0</td>\n",
       "      <td>1</td>\n",
       "      <td>0</td>\n",
       "      <td>...</td>\n",
       "      <td>0</td>\n",
       "      <td>2003.0</td>\n",
       "      <td>2.0</td>\n",
       "      <td>0</td>\n",
       "      <td>0</td>\n",
       "      <td>0</td>\n",
       "      <td>0</td>\n",
       "      <td>0</td>\n",
       "      <td>2</td>\n",
       "      <td>2008</td>\n",
       "    </tr>\n",
       "    <tr>\n",
       "      <th>1</th>\n",
       "      <td>2</td>\n",
       "      <td>6</td>\n",
       "      <td>0</td>\n",
       "      <td>0</td>\n",
       "      <td>1</td>\n",
       "      <td>0</td>\n",
       "      <td>0</td>\n",
       "      <td>0</td>\n",
       "      <td>1</td>\n",
       "      <td>0</td>\n",
       "      <td>...</td>\n",
       "      <td>1</td>\n",
       "      <td>1976.0</td>\n",
       "      <td>2.0</td>\n",
       "      <td>0</td>\n",
       "      <td>0</td>\n",
       "      <td>0</td>\n",
       "      <td>0</td>\n",
       "      <td>0</td>\n",
       "      <td>5</td>\n",
       "      <td>2007</td>\n",
       "    </tr>\n",
       "    <tr>\n",
       "      <th>2</th>\n",
       "      <td>3</td>\n",
       "      <td>7</td>\n",
       "      <td>0</td>\n",
       "      <td>0</td>\n",
       "      <td>1</td>\n",
       "      <td>0</td>\n",
       "      <td>0</td>\n",
       "      <td>0</td>\n",
       "      <td>0</td>\n",
       "      <td>0</td>\n",
       "      <td>...</td>\n",
       "      <td>1</td>\n",
       "      <td>2001.0</td>\n",
       "      <td>2.0</td>\n",
       "      <td>0</td>\n",
       "      <td>0</td>\n",
       "      <td>0</td>\n",
       "      <td>0</td>\n",
       "      <td>0</td>\n",
       "      <td>9</td>\n",
       "      <td>2008</td>\n",
       "    </tr>\n",
       "    <tr>\n",
       "      <th>3</th>\n",
       "      <td>4</td>\n",
       "      <td>7</td>\n",
       "      <td>0</td>\n",
       "      <td>0</td>\n",
       "      <td>1</td>\n",
       "      <td>0</td>\n",
       "      <td>0</td>\n",
       "      <td>0</td>\n",
       "      <td>0</td>\n",
       "      <td>0</td>\n",
       "      <td>...</td>\n",
       "      <td>1</td>\n",
       "      <td>1998.0</td>\n",
       "      <td>3.0</td>\n",
       "      <td>272</td>\n",
       "      <td>0</td>\n",
       "      <td>0</td>\n",
       "      <td>0</td>\n",
       "      <td>0</td>\n",
       "      <td>2</td>\n",
       "      <td>2006</td>\n",
       "    </tr>\n",
       "    <tr>\n",
       "      <th>4</th>\n",
       "      <td>5</td>\n",
       "      <td>8</td>\n",
       "      <td>0</td>\n",
       "      <td>0</td>\n",
       "      <td>1</td>\n",
       "      <td>0</td>\n",
       "      <td>0</td>\n",
       "      <td>0</td>\n",
       "      <td>0</td>\n",
       "      <td>0</td>\n",
       "      <td>...</td>\n",
       "      <td>1</td>\n",
       "      <td>2000.0</td>\n",
       "      <td>3.0</td>\n",
       "      <td>0</td>\n",
       "      <td>0</td>\n",
       "      <td>0</td>\n",
       "      <td>0</td>\n",
       "      <td>0</td>\n",
       "      <td>12</td>\n",
       "      <td>2008</td>\n",
       "    </tr>\n",
       "    <tr>\n",
       "      <th>...</th>\n",
       "      <td>...</td>\n",
       "      <td>...</td>\n",
       "      <td>...</td>\n",
       "      <td>...</td>\n",
       "      <td>...</td>\n",
       "      <td>...</td>\n",
       "      <td>...</td>\n",
       "      <td>...</td>\n",
       "      <td>...</td>\n",
       "      <td>...</td>\n",
       "      <td>...</td>\n",
       "      <td>...</td>\n",
       "      <td>...</td>\n",
       "      <td>...</td>\n",
       "      <td>...</td>\n",
       "      <td>...</td>\n",
       "      <td>...</td>\n",
       "      <td>...</td>\n",
       "      <td>...</td>\n",
       "      <td>...</td>\n",
       "      <td>...</td>\n",
       "    </tr>\n",
       "    <tr>\n",
       "      <th>1454</th>\n",
       "      <td>2915</td>\n",
       "      <td>4</td>\n",
       "      <td>0</td>\n",
       "      <td>0</td>\n",
       "      <td>0</td>\n",
       "      <td>1</td>\n",
       "      <td>0</td>\n",
       "      <td>0</td>\n",
       "      <td>1</td>\n",
       "      <td>0</td>\n",
       "      <td>...</td>\n",
       "      <td>0</td>\n",
       "      <td>0.0</td>\n",
       "      <td>0.0</td>\n",
       "      <td>0</td>\n",
       "      <td>0</td>\n",
       "      <td>0</td>\n",
       "      <td>0</td>\n",
       "      <td>0</td>\n",
       "      <td>6</td>\n",
       "      <td>2006</td>\n",
       "    </tr>\n",
       "    <tr>\n",
       "      <th>1455</th>\n",
       "      <td>2916</td>\n",
       "      <td>4</td>\n",
       "      <td>0</td>\n",
       "      <td>0</td>\n",
       "      <td>0</td>\n",
       "      <td>1</td>\n",
       "      <td>0</td>\n",
       "      <td>0</td>\n",
       "      <td>1</td>\n",
       "      <td>0</td>\n",
       "      <td>...</td>\n",
       "      <td>0</td>\n",
       "      <td>1970.0</td>\n",
       "      <td>1.0</td>\n",
       "      <td>0</td>\n",
       "      <td>0</td>\n",
       "      <td>0</td>\n",
       "      <td>0</td>\n",
       "      <td>0</td>\n",
       "      <td>4</td>\n",
       "      <td>2006</td>\n",
       "    </tr>\n",
       "    <tr>\n",
       "      <th>1456</th>\n",
       "      <td>2917</td>\n",
       "      <td>5</td>\n",
       "      <td>0</td>\n",
       "      <td>0</td>\n",
       "      <td>1</td>\n",
       "      <td>0</td>\n",
       "      <td>0</td>\n",
       "      <td>0</td>\n",
       "      <td>1</td>\n",
       "      <td>0</td>\n",
       "      <td>...</td>\n",
       "      <td>1</td>\n",
       "      <td>1960.0</td>\n",
       "      <td>2.0</td>\n",
       "      <td>0</td>\n",
       "      <td>0</td>\n",
       "      <td>0</td>\n",
       "      <td>0</td>\n",
       "      <td>0</td>\n",
       "      <td>9</td>\n",
       "      <td>2006</td>\n",
       "    </tr>\n",
       "    <tr>\n",
       "      <th>1457</th>\n",
       "      <td>2918</td>\n",
       "      <td>5</td>\n",
       "      <td>0</td>\n",
       "      <td>0</td>\n",
       "      <td>1</td>\n",
       "      <td>0</td>\n",
       "      <td>0</td>\n",
       "      <td>0</td>\n",
       "      <td>1</td>\n",
       "      <td>0</td>\n",
       "      <td>...</td>\n",
       "      <td>0</td>\n",
       "      <td>0.0</td>\n",
       "      <td>0.0</td>\n",
       "      <td>0</td>\n",
       "      <td>0</td>\n",
       "      <td>0</td>\n",
       "      <td>0</td>\n",
       "      <td>700</td>\n",
       "      <td>7</td>\n",
       "      <td>2006</td>\n",
       "    </tr>\n",
       "    <tr>\n",
       "      <th>1458</th>\n",
       "      <td>2919</td>\n",
       "      <td>7</td>\n",
       "      <td>0</td>\n",
       "      <td>0</td>\n",
       "      <td>1</td>\n",
       "      <td>0</td>\n",
       "      <td>0</td>\n",
       "      <td>0</td>\n",
       "      <td>1</td>\n",
       "      <td>0</td>\n",
       "      <td>...</td>\n",
       "      <td>1</td>\n",
       "      <td>1993.0</td>\n",
       "      <td>3.0</td>\n",
       "      <td>0</td>\n",
       "      <td>0</td>\n",
       "      <td>0</td>\n",
       "      <td>0</td>\n",
       "      <td>0</td>\n",
       "      <td>11</td>\n",
       "      <td>2006</td>\n",
       "    </tr>\n",
       "  </tbody>\n",
       "</table>\n",
       "<p>2919 rows × 145 columns</p>\n",
       "</div>"
      ],
      "text/plain": [
       "        Id  OverallQual  MSZoning_FV  MSZoning_RH  MSZoning_RL  MSZoning_RM  \\\n",
       "Id                                                                            \n",
       "0        1            7            0            0            1            0   \n",
       "1        2            6            0            0            1            0   \n",
       "2        3            7            0            0            1            0   \n",
       "3        4            7            0            0            1            0   \n",
       "4        5            8            0            0            1            0   \n",
       "...    ...          ...          ...          ...          ...          ...   \n",
       "1454  2915            4            0            0            0            1   \n",
       "1455  2916            4            0            0            0            1   \n",
       "1456  2917            5            0            0            1            0   \n",
       "1457  2918            5            0            0            1            0   \n",
       "1458  2919            7            0            0            1            0   \n",
       "\n",
       "      LotShape_IR2  LotShape_IR3  LotShape_Reg  LotConfig_CulDSac  ...  \\\n",
       "Id                                                                 ...   \n",
       "0                0             0             1                  0  ...   \n",
       "1                0             0             1                  0  ...   \n",
       "2                0             0             0                  0  ...   \n",
       "3                0             0             0                  0  ...   \n",
       "4                0             0             0                  0  ...   \n",
       "...            ...           ...           ...                ...  ...   \n",
       "1454             0             0             1                  0  ...   \n",
       "1455             0             0             1                  0  ...   \n",
       "1456             0             0             1                  0  ...   \n",
       "1457             0             0             1                  0  ...   \n",
       "1458             0             0             1                  0  ...   \n",
       "\n",
       "      Fireplaces  GarageYrBlt  GarageCars  EnclosedPorch  3SsnPorch  \\\n",
       "Id                                                                    \n",
       "0              0       2003.0         2.0              0          0   \n",
       "1              1       1976.0         2.0              0          0   \n",
       "2              1       2001.0         2.0              0          0   \n",
       "3              1       1998.0         3.0            272          0   \n",
       "4              1       2000.0         3.0              0          0   \n",
       "...          ...          ...         ...            ...        ...   \n",
       "1454           0          0.0         0.0              0          0   \n",
       "1455           0       1970.0         1.0              0          0   \n",
       "1456           1       1960.0         2.0              0          0   \n",
       "1457           0          0.0         0.0              0          0   \n",
       "1458           1       1993.0         3.0              0          0   \n",
       "\n",
       "      ScreenPorch  PoolArea  MiscVal  MoSold  YrSold  \n",
       "Id                                                    \n",
       "0               0         0        0       2    2008  \n",
       "1               0         0        0       5    2007  \n",
       "2               0         0        0       9    2008  \n",
       "3               0         0        0       2    2006  \n",
       "4               0         0        0      12    2008  \n",
       "...           ...       ...      ...     ...     ...  \n",
       "1454            0         0        0       6    2006  \n",
       "1455            0         0        0       4    2006  \n",
       "1456            0         0        0       9    2006  \n",
       "1457            0         0      700       7    2006  \n",
       "1458            0         0        0      11    2006  \n",
       "\n",
       "[2919 rows x 145 columns]"
      ]
     },
     "execution_count": 45,
     "metadata": {},
     "output_type": "execute_result"
    }
   ],
   "source": [
    "df_out"
   ]
  },
  {
   "cell_type": "code",
   "execution_count": 46,
   "id": "20d73f5c",
   "metadata": {
    "execution": {
     "iopub.execute_input": "2022-03-31T15:13:46.729784Z",
     "iopub.status.busy": "2022-03-31T15:13:46.729279Z",
     "iopub.status.idle": "2022-03-31T15:13:46.741360Z",
     "shell.execute_reply": "2022-03-31T15:13:46.741780Z",
     "shell.execute_reply.started": "2022-03-31T14:58:26.499822Z"
    },
    "papermill": {
     "duration": 0.107668,
     "end_time": "2022-03-31T15:13:46.741931",
     "exception": false,
     "start_time": "2022-03-31T15:13:46.634263",
     "status": "completed"
    },
    "tags": []
   },
   "outputs": [],
   "source": [
    "# Split again the train and test DataFrames\n",
    "df_train = df_out.loc[df_out['Id'] < 1461]\n",
    "df_test = df_out.loc[df_out['Id'] > 1460]"
   ]
  },
  {
   "cell_type": "markdown",
   "id": "734f6313",
   "metadata": {
    "papermill": {
     "duration": 0.1017,
     "end_time": "2022-03-31T15:13:46.929747",
     "exception": false,
     "start_time": "2022-03-31T15:13:46.828047",
     "status": "completed"
    },
    "tags": []
   },
   "source": [
    "### 4) Model building "
   ]
  },
  {
   "cell_type": "code",
   "execution_count": 47,
   "id": "29ceca62",
   "metadata": {
    "execution": {
     "iopub.execute_input": "2022-03-31T15:13:47.111418Z",
     "iopub.status.busy": "2022-03-31T15:13:47.110875Z",
     "iopub.status.idle": "2022-03-31T15:13:47.119728Z",
     "shell.execute_reply": "2022-03-31T15:13:47.120171Z",
     "shell.execute_reply.started": "2022-03-31T14:58:29.921453Z"
    },
    "papermill": {
     "duration": 0.102923,
     "end_time": "2022-03-31T15:13:47.120329",
     "exception": false,
     "start_time": "2022-03-31T15:13:47.017406",
     "status": "completed"
    },
    "tags": []
   },
   "outputs": [
    {
     "data": {
      "text/plain": [
       "0"
      ]
     },
     "execution_count": 47,
     "metadata": {},
     "output_type": "execute_result"
    }
   ],
   "source": [
    "df_train.isnull().sum().sum()"
   ]
  },
  {
   "cell_type": "code",
   "execution_count": 48,
   "id": "4937461d",
   "metadata": {
    "execution": {
     "iopub.execute_input": "2022-03-31T15:13:47.307520Z",
     "iopub.status.busy": "2022-03-31T15:13:47.306993Z",
     "iopub.status.idle": "2022-03-31T15:13:47.313317Z",
     "shell.execute_reply": "2022-03-31T15:13:47.313847Z",
     "shell.execute_reply.started": "2022-03-31T14:58:31.661544Z"
    },
    "papermill": {
     "duration": 0.103062,
     "end_time": "2022-03-31T15:13:47.314030",
     "exception": false,
     "start_time": "2022-03-31T15:13:47.210968",
     "status": "completed"
    },
    "tags": []
   },
   "outputs": [
    {
     "data": {
      "text/plain": [
       "0"
      ]
     },
     "execution_count": 48,
     "metadata": {},
     "output_type": "execute_result"
    }
   ],
   "source": [
    "df_train.isna().sum().sum()"
   ]
  },
  {
   "cell_type": "code",
   "execution_count": 49,
   "id": "5dbf1840",
   "metadata": {
    "execution": {
     "iopub.execute_input": "2022-03-31T15:13:47.577827Z",
     "iopub.status.busy": "2022-03-31T15:13:47.577029Z",
     "iopub.status.idle": "2022-03-31T15:13:49.062645Z",
     "shell.execute_reply": "2022-03-31T15:13:49.061642Z",
     "shell.execute_reply.started": "2022-03-31T14:58:33.472611Z"
    },
    "papermill": {
     "duration": 1.617236,
     "end_time": "2022-03-31T15:13:49.062791",
     "exception": false,
     "start_time": "2022-03-31T15:13:47.445555",
     "status": "completed"
    },
    "tags": []
   },
   "outputs": [],
   "source": [
    "from sklearn.preprocessing import RobustScaler, MinMaxScaler\n",
    "from sklearn.model_selection import train_test_split\n",
    "from sklearn.linear_model import LinearRegression, Lasso\n",
    "import statsmodels.api as sm\n",
    "from sklearn.model_selection import cross_val_score\n",
    "from sklearn.ensemble import RandomForestRegressor\n",
    "from sklearn.model_selection import GridSearchCV\n",
    "from sklearn.ensemble import GradientBoostingRegressor"
   ]
  },
  {
   "cell_type": "code",
   "execution_count": 50,
   "id": "74d5c189",
   "metadata": {
    "execution": {
     "iopub.execute_input": "2022-03-31T15:13:49.321645Z",
     "iopub.status.busy": "2022-03-31T15:13:49.320860Z",
     "iopub.status.idle": "2022-03-31T15:13:49.323242Z",
     "shell.execute_reply": "2022-03-31T15:13:49.322616Z",
     "shell.execute_reply.started": "2022-03-31T14:58:54.092531Z"
    },
    "papermill": {
     "duration": 0.133392,
     "end_time": "2022-03-31T15:13:49.323368",
     "exception": false,
     "start_time": "2022-03-31T15:13:49.189976",
     "status": "completed"
    },
    "tags": []
   },
   "outputs": [],
   "source": [
    "## 1) Train Test split\n",
    "X = df_train\n",
    "y = SalePrice_column"
   ]
  },
  {
   "cell_type": "code",
   "execution_count": 51,
   "id": "a1d8cfea",
   "metadata": {
    "execution": {
     "iopub.execute_input": "2022-03-31T15:13:49.588523Z",
     "iopub.status.busy": "2022-03-31T15:13:49.587661Z",
     "iopub.status.idle": "2022-03-31T15:13:49.629477Z",
     "shell.execute_reply": "2022-03-31T15:13:49.628887Z",
     "shell.execute_reply.started": "2022-03-31T14:59:07.911070Z"
    },
    "papermill": {
     "duration": 0.180221,
     "end_time": "2022-03-31T15:13:49.629635",
     "exception": false,
     "start_time": "2022-03-31T15:13:49.449414",
     "status": "completed"
    },
    "tags": []
   },
   "outputs": [],
   "source": [
    "## 2) Scale the data using RobustScaler\n",
    "scaler = RobustScaler()\n",
    "scaler.fit(X)\n",
    "df_train_scaled = pd.DataFrame(scaler.transform(X), columns=X.columns)\n",
    "X_train, X_test, y_train, y_test = train_test_split( X, y, test_size=0.2, random_state=42)"
   ]
  },
  {
   "cell_type": "code",
   "execution_count": 52,
   "id": "845ea0b3",
   "metadata": {
    "execution": {
     "iopub.execute_input": "2022-03-31T15:13:49.885434Z",
     "iopub.status.busy": "2022-03-31T15:13:49.884634Z",
     "iopub.status.idle": "2022-03-31T15:13:50.128084Z",
     "shell.execute_reply": "2022-03-31T15:13:50.126958Z",
     "shell.execute_reply.started": "2022-03-31T14:59:13.636707Z"
    },
    "papermill": {
     "duration": 0.372528,
     "end_time": "2022-03-31T15:13:50.128271",
     "exception": false,
     "start_time": "2022-03-31T15:13:49.755743",
     "status": "completed"
    },
    "tags": []
   },
   "outputs": [
    {
     "data": {
      "text/plain": [
       "(0.7774036495881967, 0.006540508108748149)"
      ]
     },
     "execution_count": 52,
     "metadata": {},
     "output_type": "execute_result"
    }
   ],
   "source": [
    "## 2) Multiple Linear Regression\n",
    "X_sm = sm.add_constant(X)\n",
    "model = sm.OLS(y, X_sm)\n",
    "model.fit().summary()\n",
    "\n",
    "lm = LinearRegression()\n",
    "lm.fit(X_train, y_train)\n",
    "scores = cross_val_score(lm, X_train, y_train, cv=3)\n",
    "scores.mean(), scores.std()"
   ]
  },
  {
   "cell_type": "code",
   "execution_count": 53,
   "id": "f84cf7e5",
   "metadata": {
    "execution": {
     "iopub.execute_input": "2022-03-31T15:13:50.441920Z",
     "iopub.status.busy": "2022-03-31T15:13:50.441040Z",
     "iopub.status.idle": "2022-03-31T15:13:50.534318Z",
     "shell.execute_reply": "2022-03-31T15:13:50.534889Z",
     "shell.execute_reply.started": "2022-03-31T14:59:17.716815Z"
    },
    "papermill": {
     "duration": 0.230207,
     "end_time": "2022-03-31T15:13:50.535103",
     "exception": false,
     "start_time": "2022-03-31T15:13:50.304896",
     "status": "completed"
    },
    "tags": []
   },
   "outputs": [
    {
     "data": {
      "text/plain": [
       "[0.7807171560783844]"
      ]
     },
     "execution_count": 53,
     "metadata": {},
     "output_type": "execute_result"
    }
   ],
   "source": [
    "from sklearn.model_selection import KFold\n",
    "from sklearn.metrics import make_scorer, r2_score\n",
    "cv = KFold(n_splits = 3, shuffle=True, random_state = 45) # Split your data to k Folds\n",
    "r2 = make_scorer(r2_score) # r2_score is the R^2 (coefficient of determination) which used to evaluate the performance of linear Regression Model\n",
    "# formula is R^2 = 1-SS(res)/SS(tot)\n",
    "r2_val_score = cross_val_score(lm, X_train, y_train, cv=cv, scoring = r2) # Evaluates the data and returns the score\n",
    "score_lm = [r2_val_score.mean()]\n",
    "score_lm"
   ]
  },
  {
   "cell_type": "code",
   "execution_count": 54,
   "id": "41cb91c9",
   "metadata": {
    "execution": {
     "iopub.execute_input": "2022-03-31T15:13:50.857112Z",
     "iopub.status.busy": "2022-03-31T15:13:50.856275Z",
     "iopub.status.idle": "2022-03-31T15:13:50.859313Z",
     "shell.execute_reply": "2022-03-31T15:13:50.859808Z",
     "shell.execute_reply.started": "2022-03-31T14:59:20.161864Z"
    },
    "papermill": {
     "duration": 0.139578,
     "end_time": "2022-03-31T15:13:50.859972",
     "exception": false,
     "start_time": "2022-03-31T15:13:50.720394",
     "status": "completed"
    },
    "tags": []
   },
   "outputs": [
    {
     "data": {
      "text/plain": [
       "\"lm_L = Lasso(max_iter=5000)\\nscores_L = cross_val_score(lm_L, X_train, y_train, scoring='neg_mean_absolute_error', cv=3)\\n## Trying various values for alpha\\nalpha = []\\nscores_L = []\\nfor i in range(100, 200):\\n    alpha.append(i)\\n    lm_L = Lasso(alpha=(i), tol = 1e-2, max_iter=5000)\\n    cr = cross_val_score(lm_L, X_train, y_train, scoring='neg_mean_absolute_error', cv=3)\\n    scores_L.append(cr.mean())\\nplt.plot(alpha, scores_L)\\nerror = tuple(zip(alpha, scores_L))\\ndf_err = pd.DataFrame(error, columns=['alpha', 'error'])\\nalpha_best = df_err[df_err.error == max(df_err.error)]['alpha']\""
      ]
     },
     "execution_count": 54,
     "metadata": {},
     "output_type": "execute_result"
    }
   ],
   "source": [
    "## 3) Lasso Rregression\n",
    "\"\"\"lm_L = Lasso(max_iter=5000)\n",
    "scores_L = cross_val_score(lm_L, X_train, y_train, scoring='neg_mean_absolute_error', cv=3)\n",
    "## Trying various values for alpha\n",
    "alpha = []\n",
    "scores_L = []\n",
    "for i in range(100, 200):\n",
    "    alpha.append(i)\n",
    "    lm_L = Lasso(alpha=(i), tol = 1e-2, max_iter=5000)\n",
    "    cr = cross_val_score(lm_L, X_train, y_train, scoring='neg_mean_absolute_error', cv=3)\n",
    "    scores_L.append(cr.mean())\n",
    "plt.plot(alpha, scores_L)\n",
    "error = tuple(zip(alpha, scores_L))\n",
    "df_err = pd.DataFrame(error, columns=['alpha', 'error'])\n",
    "alpha_best = df_err[df_err.error == max(df_err.error)]['alpha']\"\"\""
   ]
  },
  {
   "cell_type": "code",
   "execution_count": 55,
   "id": "987c7714",
   "metadata": {
    "execution": {
     "iopub.execute_input": "2022-03-31T15:13:51.119669Z",
     "iopub.status.busy": "2022-03-31T15:13:51.118995Z",
     "iopub.status.idle": "2022-03-31T15:13:51.280199Z",
     "shell.execute_reply": "2022-03-31T15:13:51.279635Z",
     "shell.execute_reply.started": "2022-03-31T14:59:24.048827Z"
    },
    "papermill": {
     "duration": 0.292528,
     "end_time": "2022-03-31T15:13:51.280327",
     "exception": false,
     "start_time": "2022-03-31T15:13:50.987799",
     "status": "completed"
    },
    "tags": []
   },
   "outputs": [
    {
     "data": {
      "text/plain": [
       "[0.8048826842380924]"
      ]
     },
     "execution_count": 55,
     "metadata": {},
     "output_type": "execute_result"
    }
   ],
   "source": [
    "alpha_best = 163 # The best alpha given the previous commented part\n",
    "lm_L = Lasso(alpha=float(alpha_best))      \n",
    "lm_L.fit(X_train, y_train)\n",
    "r2_val_score = cross_val_score(lm_L, X_train, y_train, cv=cv, scoring = r2) # Evaluates the data and returns the score\n",
    "score_lmL = [r2_val_score.mean()]\n",
    "score_lmL"
   ]
  },
  {
   "cell_type": "code",
   "execution_count": 56,
   "id": "0714c0cd",
   "metadata": {
    "execution": {
     "iopub.execute_input": "2022-03-31T15:13:51.604841Z",
     "iopub.status.busy": "2022-03-31T15:13:51.604094Z",
     "iopub.status.idle": "2022-03-31T15:13:51.607124Z",
     "shell.execute_reply": "2022-03-31T15:13:51.607672Z",
     "shell.execute_reply.started": "2022-03-31T14:59:27.047422Z"
    },
    "papermill": {
     "duration": 0.137462,
     "end_time": "2022-03-31T15:13:51.607838",
     "exception": false,
     "start_time": "2022-03-31T15:13:51.470376",
     "status": "completed"
    },
    "tags": []
   },
   "outputs": [
    {
     "data": {
      "text/plain": [
       "\"# 4) Random Forest\\nrf = RandomForestRegressor()\\ncross_val_score(rf, X_train, y_train, scoring='neg_mean_absolute_error', cv=3)\\n# Tune the rf model using GridsearchCV\\n#parameters = {'n_estimators': range(10,200,20), 'criterion':('mae', 'mse'), 'max_features':('sqrt', 'log2')}\\nparameters = {'n_estimators': range(20,200,10)}\\nclf_rf = GridSearchCV(rf, parameters, scoring='neg_mean_absolute_error', cv=3)\\nclf_rf.fit(X_train, y_train)\\nr2_val_score = cross_val_score(clf_rf.best_estimator_, X_train, y_train, cv=cv, scoring = r2) # Evaluates the data and returns the score\\nscore_rf = [r2_val_score.mean()]\\nscore_rf\""
      ]
     },
     "execution_count": 56,
     "metadata": {},
     "output_type": "execute_result"
    }
   ],
   "source": [
    "# This part is commented to avoid a large run time\n",
    "\"\"\"# 4) Random Forest\n",
    "rf = RandomForestRegressor()\n",
    "cross_val_score(rf, X_train, y_train, scoring='neg_mean_absolute_error', cv=3)\n",
    "# Tune the rf model using GridsearchCV\n",
    "#parameters = {'n_estimators': range(10,200,20), 'criterion':('mae', 'mse'), 'max_features':('sqrt', 'log2')}\n",
    "parameters = {'n_estimators': range(20,200,10)}\n",
    "clf_rf = GridSearchCV(rf, parameters, scoring='neg_mean_absolute_error', cv=3)\n",
    "clf_rf.fit(X_train, y_train)\n",
    "r2_val_score = cross_val_score(clf_rf.best_estimator_, X_train, y_train, cv=cv, scoring = r2) # Evaluates the data and returns the score\n",
    "score_rf = [r2_val_score.mean()]\n",
    "score_rf\"\"\""
   ]
  },
  {
   "cell_type": "code",
   "execution_count": 57,
   "id": "8c8577ff",
   "metadata": {
    "execution": {
     "iopub.execute_input": "2022-03-31T15:13:51.875776Z",
     "iopub.status.busy": "2022-03-31T15:13:51.874942Z",
     "iopub.status.idle": "2022-03-31T15:13:59.043461Z",
     "shell.execute_reply": "2022-03-31T15:13:59.043977Z",
     "shell.execute_reply.started": "2022-03-31T14:59:30.007729Z"
    },
    "papermill": {
     "duration": 7.303861,
     "end_time": "2022-03-31T15:13:59.044140",
     "exception": false,
     "start_time": "2022-03-31T15:13:51.740279",
     "status": "completed"
    },
    "tags": []
   },
   "outputs": [
    {
     "data": {
      "text/plain": [
       "[0.7939412523608839]"
      ]
     },
     "execution_count": 57,
     "metadata": {},
     "output_type": "execute_result"
    }
   ],
   "source": [
    "# The best estimator of clf_rf is with n_estimators=130\n",
    "clf_rf = RandomForestRegressor(n_estimators=130)\n",
    "clf_rf.fit(X_train, y_train)\n",
    "r2_val_score = cross_val_score(clf_rf, X_train, y_train, cv=cv, scoring = r2) # Evaluates the data and returns the score\n",
    "score_rf = [r2_val_score.mean()]\n",
    "score_rf"
   ]
  },
  {
   "cell_type": "code",
   "execution_count": 58,
   "id": "565ca145",
   "metadata": {
    "execution": {
     "iopub.execute_input": "2022-03-31T15:13:59.306084Z",
     "iopub.status.busy": "2022-03-31T15:13:59.305417Z",
     "iopub.status.idle": "2022-03-31T15:13:59.309082Z",
     "shell.execute_reply": "2022-03-31T15:13:59.309719Z",
     "shell.execute_reply.started": "2022-03-31T14:59:38.929437Z"
    },
    "papermill": {
     "duration": 0.136024,
     "end_time": "2022-03-31T15:13:59.309886",
     "exception": false,
     "start_time": "2022-03-31T15:13:59.173862",
     "status": "completed"
    },
    "tags": []
   },
   "outputs": [
    {
     "data": {
      "text/plain": [
       "\"## 5) Gradient Boosting Tree\\nGB = GradientBoostingRegressor()\\ncross_val_score(GB, X_train, y_train, scoring='neg_mean_absolute_error', cv=3)\\n\\nR = np.arange(0.01, 1, 0.05)\\nparameters = {'learning_rate': R, 'n_estimators': range(100,250,10)}\\nclf_GB = GridSearchCV(GB, parameters, scoring='neg_mean_absolute_error', cv=3)\\nclf_GB.fit(X_train, y_train)\\nr2_val_score = cross_val_score(clf_GB.best_estimator_, X_train, y_train, cv=cv, scoring = r2) # Evaluates the data and returns the score\\nscore_GB = [r2_val_score.mean()]\\nscore_GB\""
      ]
     },
     "execution_count": 58,
     "metadata": {},
     "output_type": "execute_result"
    }
   ],
   "source": [
    "\"\"\"## 5) Gradient Boosting Tree\n",
    "GB = GradientBoostingRegressor()\n",
    "cross_val_score(GB, X_train, y_train, scoring='neg_mean_absolute_error', cv=3)\n",
    "\n",
    "R = np.arange(0.01, 1, 0.05)\n",
    "parameters = {'learning_rate': R, 'n_estimators': range(100,250,10)}\n",
    "clf_GB = GridSearchCV(GB, parameters, scoring='neg_mean_absolute_error', cv=3)\n",
    "clf_GB.fit(X_train, y_train)\n",
    "r2_val_score = cross_val_score(clf_GB.best_estimator_, X_train, y_train, cv=cv, scoring = r2) # Evaluates the data and returns the score\n",
    "score_GB = [r2_val_score.mean()]\n",
    "score_GB\"\"\""
   ]
  },
  {
   "cell_type": "code",
   "execution_count": 59,
   "id": "a62c8392",
   "metadata": {
    "execution": {
     "iopub.execute_input": "2022-03-31T15:13:59.573345Z",
     "iopub.status.busy": "2022-03-31T15:13:59.572714Z",
     "iopub.status.idle": "2022-03-31T15:14:02.476885Z",
     "shell.execute_reply": "2022-03-31T15:14:02.477441Z",
     "shell.execute_reply.started": "2022-03-31T14:59:41.158170Z"
    },
    "papermill": {
     "duration": 3.037977,
     "end_time": "2022-03-31T15:14:02.477611",
     "exception": false,
     "start_time": "2022-03-31T15:13:59.439634",
     "status": "completed"
    },
    "tags": []
   },
   "outputs": [
    {
     "data": {
      "text/plain": [
       "[0.8143767439239378]"
      ]
     },
     "execution_count": 59,
     "metadata": {},
     "output_type": "execute_result"
    }
   ],
   "source": [
    "# The best estimator of clf_GB is with a learning rate of 0.060000000000000005 and n_estimators of 230\n",
    "clf_GB = GradientBoostingRegressor(learning_rate=0.060000000000000005, n_estimators=230)\n",
    "clf_GB.fit(X_train, y_train)\n",
    "r2_val_score = cross_val_score(clf_GB, X_train, y_train, cv=cv, scoring = r2) # Evaluates the data and returns the score\n",
    "score_GB = [r2_val_score.mean()]\n",
    "score_GB"
   ]
  },
  {
   "cell_type": "code",
   "execution_count": 60,
   "id": "437c258b",
   "metadata": {
    "execution": {
     "iopub.execute_input": "2022-03-31T15:14:02.749670Z",
     "iopub.status.busy": "2022-03-31T15:14:02.748951Z",
     "iopub.status.idle": "2022-03-31T15:14:30.926375Z",
     "shell.execute_reply": "2022-03-31T15:14:30.926754Z",
     "shell.execute_reply.started": "2022-03-31T14:59:47.035335Z"
    },
    "papermill": {
     "duration": 28.316441,
     "end_time": "2022-03-31T15:14:30.926905",
     "exception": false,
     "start_time": "2022-03-31T15:14:02.610464",
     "status": "completed"
    },
    "tags": []
   },
   "outputs": [
    {
     "data": {
      "text/plain": [
       "[0.7944885121286841]"
      ]
     },
     "execution_count": 60,
     "metadata": {},
     "output_type": "execute_result"
    }
   ],
   "source": [
    "# 6) Bagging and Boosting\n",
    "from sklearn.ensemble import BaggingRegressor, GradientBoostingRegressor\n",
    "BR_reg = BaggingRegressor(n_estimators=1000, random_state=51)\n",
    "r2_val_score = cross_val_score(BR_reg, X_train, y_train, cv=cv, scoring = r2) # Evaluates the data and returns the score\n",
    "score_BR = [r2_val_score.mean()]\n",
    "score_BR"
   ]
  },
  {
   "cell_type": "code",
   "execution_count": 61,
   "id": "1f002b1c",
   "metadata": {
    "execution": {
     "iopub.execute_input": "2022-03-31T15:14:31.116058Z",
     "iopub.status.busy": "2022-03-31T15:14:31.115375Z",
     "iopub.status.idle": "2022-03-31T15:14:39.777596Z",
     "shell.execute_reply": "2022-03-31T15:14:39.776966Z",
     "shell.execute_reply.started": "2022-03-31T15:00:20.777013Z"
    },
    "papermill": {
     "duration": 8.759937,
     "end_time": "2022-03-31T15:14:39.777748",
     "exception": false,
     "start_time": "2022-03-31T15:14:31.017811",
     "status": "completed"
    },
    "tags": []
   },
   "outputs": [
    {
     "data": {
      "text/plain": [
       "[0.8079917815710039]"
      ]
     },
     "execution_count": 61,
     "metadata": {},
     "output_type": "execute_result"
    }
   ],
   "source": [
    "GBR_reg = GradientBoostingRegressor(n_estimators=1000, learning_rate=0.1, loss='squared_error', random_state=51)\n",
    "r2_val_score = cross_val_score(GBR_reg, X_train, y_train, cv=cv, scoring = r2) # Evaluates the data and returns the score\n",
    "score_GBR = [r2_val_score.mean()]\n",
    "score_GBR"
   ]
  },
  {
   "cell_type": "code",
   "execution_count": 62,
   "id": "8f295473",
   "metadata": {
    "execution": {
     "iopub.execute_input": "2022-03-31T15:14:40.049813Z",
     "iopub.status.busy": "2022-03-31T15:14:40.049107Z",
     "iopub.status.idle": "2022-03-31T15:14:40.054379Z",
     "shell.execute_reply": "2022-03-31T15:14:40.053692Z",
     "shell.execute_reply.started": "2022-03-31T15:00:47.428551Z"
    },
    "papermill": {
     "duration": 0.143475,
     "end_time": "2022-03-31T15:14:40.054542",
     "exception": false,
     "start_time": "2022-03-31T15:14:39.911067",
     "status": "completed"
    },
    "tags": []
   },
   "outputs": [
    {
     "data": {
      "text/plain": [
       "[0.8143767439239378]"
      ]
     },
     "execution_count": 62,
     "metadata": {},
     "output_type": "execute_result"
    }
   ],
   "source": [
    "Best_score = max(score_lm, score_lmL, score_rf, score_GB, score_BR, score_GBR)\n",
    "Best_score"
   ]
  },
  {
   "cell_type": "markdown",
   "id": "65eab74d",
   "metadata": {
    "papermill": {
     "duration": 0.141913,
     "end_time": "2022-03-31T15:14:40.331704",
     "exception": false,
     "start_time": "2022-03-31T15:14:40.189791",
     "status": "completed"
    },
    "tags": []
   },
   "source": [
    "### 5) Testing the models"
   ]
  },
  {
   "cell_type": "code",
   "execution_count": 63,
   "id": "867cea80",
   "metadata": {
    "execution": {
     "iopub.execute_input": "2022-03-31T15:14:40.616561Z",
     "iopub.status.busy": "2022-03-31T15:14:40.615829Z",
     "iopub.status.idle": "2022-03-31T15:14:48.906329Z",
     "shell.execute_reply": "2022-03-31T15:14:48.905863Z",
     "shell.execute_reply.started": "2022-03-31T15:08:51.579932Z"
    },
    "papermill": {
     "duration": 8.430904,
     "end_time": "2022-03-31T15:14:48.906450",
     "exception": false,
     "start_time": "2022-03-31T15:14:40.475546",
     "status": "completed"
    },
    "tags": []
   },
   "outputs": [],
   "source": [
    "from sklearn.metrics import mean_absolute_error\n",
    "lm.fit(X_train, y_train)\n",
    "Ypred_lm = lm.predict(X_test)\n",
    "lm_L.fit(X_train,y_train)\n",
    "Ypred_lmL = lm_L.predict(X_test)\n",
    "clf_rf.fit(X_train, y_train)\n",
    "Ypred_rf = clf_rf.predict(X_test)\n",
    "clf_GB.fit(X_train, y_train)\n",
    "Ypred_GB = clf_GB.predict(X_test)\n",
    "GBR_reg.fit(X_train, y_train)\n",
    "Ypred_GBR = GBR_reg.predict(X_test)\n",
    "mae_lm = mean_absolute_error(Ypred_lm, y_test)\n",
    "mae_lmL = mean_absolute_error(Ypred_lmL, y_test)\n",
    "mae_rf = mean_absolute_error(Ypred_rf, y_test)\n",
    "mae_GB = mean_absolute_error(Ypred_GB, y_test)\n",
    "mae_GBR = mean_absolute_error(Ypred_GBR, y_test)\n",
    "\n",
    "Pred = np.concatenate((Ypred_lm.reshape(-1,1), Ypred_lmL.reshape(-1,1), Ypred_rf.reshape(-1,1), \n",
    "                 Ypred_GB.reshape(-1,1), Ypred_GBR.reshape(-1,1), y_test.values.reshape(-1,1)), axis=1)\n",
    "df_pred = pd.DataFrame(Pred, \n",
    "                       columns =('Pred_lm', 'Pred_lmL', 'Pred_rf', 'Pred_GB', 'Pred_GBR', 'Y_test'))"
   ]
  },
  {
   "cell_type": "code",
   "execution_count": 64,
   "id": "c02fec46",
   "metadata": {
    "collapsed": true,
    "execution": {
     "iopub.execute_input": "2022-03-31T15:14:49.095131Z",
     "iopub.status.busy": "2022-03-31T15:14:49.094598Z",
     "iopub.status.idle": "2022-03-31T15:14:49.110890Z",
     "shell.execute_reply": "2022-03-31T15:14:49.111545Z",
     "shell.execute_reply.started": "2022-03-31T15:09:03.487189Z"
    },
    "jupyter": {
     "outputs_hidden": true
    },
    "papermill": {
     "duration": 0.112181,
     "end_time": "2022-03-31T15:14:49.111728",
     "exception": false,
     "start_time": "2022-03-31T15:14:48.999547",
     "status": "completed"
    },
    "tags": []
   },
   "outputs": [
    {
     "data": {
      "text/html": [
       "<div>\n",
       "<style scoped>\n",
       "    .dataframe tbody tr th:only-of-type {\n",
       "        vertical-align: middle;\n",
       "    }\n",
       "\n",
       "    .dataframe tbody tr th {\n",
       "        vertical-align: top;\n",
       "    }\n",
       "\n",
       "    .dataframe thead th {\n",
       "        text-align: right;\n",
       "    }\n",
       "</style>\n",
       "<table border=\"1\" class=\"dataframe\">\n",
       "  <thead>\n",
       "    <tr style=\"text-align: right;\">\n",
       "      <th></th>\n",
       "      <th>Pred_lm</th>\n",
       "      <th>Pred_lmL</th>\n",
       "      <th>Pred_rf</th>\n",
       "      <th>Pred_GB</th>\n",
       "      <th>Pred_GBR</th>\n",
       "      <th>Y_test</th>\n",
       "    </tr>\n",
       "  </thead>\n",
       "  <tbody>\n",
       "    <tr>\n",
       "      <th>0</th>\n",
       "      <td>133191.617305</td>\n",
       "      <td>134747.732840</td>\n",
       "      <td>136482.307692</td>\n",
       "      <td>129233.769942</td>\n",
       "      <td>121819.297509</td>\n",
       "      <td>154500.0</td>\n",
       "    </tr>\n",
       "    <tr>\n",
       "      <th>1</th>\n",
       "      <td>338726.336832</td>\n",
       "      <td>325990.638431</td>\n",
       "      <td>290681.707692</td>\n",
       "      <td>316627.368507</td>\n",
       "      <td>304117.927682</td>\n",
       "      <td>325000.0</td>\n",
       "    </tr>\n",
       "    <tr>\n",
       "      <th>2</th>\n",
       "      <td>100888.568501</td>\n",
       "      <td>110603.924809</td>\n",
       "      <td>129609.900000</td>\n",
       "      <td>115066.923629</td>\n",
       "      <td>109888.366319</td>\n",
       "      <td>115000.0</td>\n",
       "    </tr>\n",
       "    <tr>\n",
       "      <th>3</th>\n",
       "      <td>198970.234264</td>\n",
       "      <td>177900.905964</td>\n",
       "      <td>151035.076923</td>\n",
       "      <td>147545.075275</td>\n",
       "      <td>150322.921027</td>\n",
       "      <td>159000.0</td>\n",
       "    </tr>\n",
       "    <tr>\n",
       "      <th>4</th>\n",
       "      <td>340242.667370</td>\n",
       "      <td>339614.036541</td>\n",
       "      <td>358510.269231</td>\n",
       "      <td>376575.532591</td>\n",
       "      <td>370833.094173</td>\n",
       "      <td>315500.0</td>\n",
       "    </tr>\n",
       "    <tr>\n",
       "      <th>...</th>\n",
       "      <td>...</td>\n",
       "      <td>...</td>\n",
       "      <td>...</td>\n",
       "      <td>...</td>\n",
       "      <td>...</td>\n",
       "      <td>...</td>\n",
       "    </tr>\n",
       "    <tr>\n",
       "      <th>287</th>\n",
       "      <td>114126.818540</td>\n",
       "      <td>103495.474081</td>\n",
       "      <td>106687.692308</td>\n",
       "      <td>116356.714523</td>\n",
       "      <td>138733.505969</td>\n",
       "      <td>89471.0</td>\n",
       "    </tr>\n",
       "    <tr>\n",
       "      <th>288</th>\n",
       "      <td>300608.431988</td>\n",
       "      <td>278315.644756</td>\n",
       "      <td>227086.238462</td>\n",
       "      <td>246185.717626</td>\n",
       "      <td>255502.652725</td>\n",
       "      <td>260000.0</td>\n",
       "    </tr>\n",
       "    <tr>\n",
       "      <th>289</th>\n",
       "      <td>200989.089630</td>\n",
       "      <td>216799.496013</td>\n",
       "      <td>207028.400000</td>\n",
       "      <td>209406.944085</td>\n",
       "      <td>206107.846747</td>\n",
       "      <td>189000.0</td>\n",
       "    </tr>\n",
       "    <tr>\n",
       "      <th>290</th>\n",
       "      <td>104831.311240</td>\n",
       "      <td>101950.638370</td>\n",
       "      <td>119574.807692</td>\n",
       "      <td>119881.023582</td>\n",
       "      <td>113796.686923</td>\n",
       "      <td>108000.0</td>\n",
       "    </tr>\n",
       "    <tr>\n",
       "      <th>291</th>\n",
       "      <td>119235.659689</td>\n",
       "      <td>109614.858040</td>\n",
       "      <td>115802.692308</td>\n",
       "      <td>116888.423386</td>\n",
       "      <td>120198.156991</td>\n",
       "      <td>124500.0</td>\n",
       "    </tr>\n",
       "  </tbody>\n",
       "</table>\n",
       "<p>292 rows × 6 columns</p>\n",
       "</div>"
      ],
      "text/plain": [
       "           Pred_lm       Pred_lmL        Pred_rf        Pred_GB  \\\n",
       "0    133191.617305  134747.732840  136482.307692  129233.769942   \n",
       "1    338726.336832  325990.638431  290681.707692  316627.368507   \n",
       "2    100888.568501  110603.924809  129609.900000  115066.923629   \n",
       "3    198970.234264  177900.905964  151035.076923  147545.075275   \n",
       "4    340242.667370  339614.036541  358510.269231  376575.532591   \n",
       "..             ...            ...            ...            ...   \n",
       "287  114126.818540  103495.474081  106687.692308  116356.714523   \n",
       "288  300608.431988  278315.644756  227086.238462  246185.717626   \n",
       "289  200989.089630  216799.496013  207028.400000  209406.944085   \n",
       "290  104831.311240  101950.638370  119574.807692  119881.023582   \n",
       "291  119235.659689  109614.858040  115802.692308  116888.423386   \n",
       "\n",
       "          Pred_GBR    Y_test  \n",
       "0    121819.297509  154500.0  \n",
       "1    304117.927682  325000.0  \n",
       "2    109888.366319  115000.0  \n",
       "3    150322.921027  159000.0  \n",
       "4    370833.094173  315500.0  \n",
       "..             ...       ...  \n",
       "287  138733.505969   89471.0  \n",
       "288  255502.652725  260000.0  \n",
       "289  206107.846747  189000.0  \n",
       "290  113796.686923  108000.0  \n",
       "291  120198.156991  124500.0  \n",
       "\n",
       "[292 rows x 6 columns]"
      ]
     },
     "execution_count": 64,
     "metadata": {},
     "output_type": "execute_result"
    }
   ],
   "source": [
    "df_pred"
   ]
  },
  {
   "cell_type": "markdown",
   "id": "31a32552",
   "metadata": {
    "papermill": {
     "duration": 0.13624,
     "end_time": "2022-03-31T15:14:49.384170",
     "exception": false,
     "start_time": "2022-03-31T15:14:49.247930",
     "status": "completed"
    },
    "tags": []
   },
   "source": [
    "### 6) Predictions on the test set"
   ]
  },
  {
   "cell_type": "code",
   "execution_count": 65,
   "id": "568c56de",
   "metadata": {
    "execution": {
     "iopub.execute_input": "2022-03-31T15:14:49.669874Z",
     "iopub.status.busy": "2022-03-31T15:14:49.669035Z",
     "iopub.status.idle": "2022-03-31T15:14:49.777466Z",
     "shell.execute_reply": "2022-03-31T15:14:49.778168Z",
     "shell.execute_reply.started": "2022-03-31T15:11:28.329204Z"
    },
    "papermill": {
     "duration": 0.253929,
     "end_time": "2022-03-31T15:14:49.778364",
     "exception": false,
     "start_time": "2022-03-31T15:14:49.524435",
     "status": "completed"
    },
    "tags": []
   },
   "outputs": [],
   "source": [
    "## 2) Predictions\n",
    "Pred_test_lm = lm.predict(df_test)\n",
    "Pred_test_lmL = lm_L.predict(df_test)\n",
    "Pred_test_rf = clf_rf.predict(df_test)\n",
    "Pred_test_GB = clf_GB.predict(df_test)\n",
    "Ypred_GBR = GBR_reg.predict(df_test)"
   ]
  },
  {
   "cell_type": "code",
   "execution_count": 66,
   "id": "c2a20533",
   "metadata": {
    "execution": {
     "iopub.execute_input": "2022-03-31T15:14:50.055163Z",
     "iopub.status.busy": "2022-03-31T15:14:50.054214Z",
     "iopub.status.idle": "2022-03-31T15:14:50.058526Z",
     "shell.execute_reply": "2022-03-31T15:14:50.059050Z",
     "shell.execute_reply.started": "2022-03-31T15:11:29.849755Z"
    },
    "papermill": {
     "duration": 0.144037,
     "end_time": "2022-03-31T15:14:50.059259",
     "exception": false,
     "start_time": "2022-03-31T15:14:49.915222",
     "status": "completed"
    },
    "tags": []
   },
   "outputs": [],
   "source": [
    "Pred_test = np.concatenate((Pred_test_lm.reshape(-1,1), Pred_test_lmL.reshape(-1,1), \n",
    "                            Pred_test_rf.reshape(-1,1), Pred_test_GB.reshape(-1,1)), axis=1)\n",
    "df_pred_test = pd.DataFrame(Pred_test, \n",
    "                       columns =('Pred_test_lm', 'Pred_test_lmL', 'Pred_test_rf', 'Pred_test_GB'))\n",
    "df_pred_test = df_pred_test.set_index(df_test['Id'])"
   ]
  },
  {
   "cell_type": "code",
   "execution_count": 67,
   "id": "f1df4290",
   "metadata": {
    "execution": {
     "iopub.execute_input": "2022-03-31T15:14:50.335523Z",
     "iopub.status.busy": "2022-03-31T15:14:50.334558Z",
     "iopub.status.idle": "2022-03-31T15:14:50.347846Z",
     "shell.execute_reply": "2022-03-31T15:14:50.347279Z",
     "shell.execute_reply.started": "2022-03-31T15:11:31.272030Z"
    },
    "papermill": {
     "duration": 0.152782,
     "end_time": "2022-03-31T15:14:50.347992",
     "exception": false,
     "start_time": "2022-03-31T15:14:50.195210",
     "status": "completed"
    },
    "tags": []
   },
   "outputs": [
    {
     "data": {
      "text/html": [
       "<div>\n",
       "<style scoped>\n",
       "    .dataframe tbody tr th:only-of-type {\n",
       "        vertical-align: middle;\n",
       "    }\n",
       "\n",
       "    .dataframe tbody tr th {\n",
       "        vertical-align: top;\n",
       "    }\n",
       "\n",
       "    .dataframe thead th {\n",
       "        text-align: right;\n",
       "    }\n",
       "</style>\n",
       "<table border=\"1\" class=\"dataframe\">\n",
       "  <thead>\n",
       "    <tr style=\"text-align: right;\">\n",
       "      <th></th>\n",
       "      <th>Pred_test_lm</th>\n",
       "      <th>Pred_test_lmL</th>\n",
       "      <th>Pred_test_rf</th>\n",
       "      <th>Pred_test_GB</th>\n",
       "    </tr>\n",
       "    <tr>\n",
       "      <th>Id</th>\n",
       "      <th></th>\n",
       "      <th></th>\n",
       "      <th></th>\n",
       "      <th></th>\n",
       "    </tr>\n",
       "  </thead>\n",
       "  <tbody>\n",
       "    <tr>\n",
       "      <th>1461</th>\n",
       "      <td>115725.110756</td>\n",
       "      <td>106514.754662</td>\n",
       "      <td>134577.484615</td>\n",
       "      <td>124905.450171</td>\n",
       "    </tr>\n",
       "    <tr>\n",
       "      <th>1462</th>\n",
       "      <td>141532.773970</td>\n",
       "      <td>146264.332084</td>\n",
       "      <td>158396.153846</td>\n",
       "      <td>152343.749055</td>\n",
       "    </tr>\n",
       "    <tr>\n",
       "      <th>1463</th>\n",
       "      <td>164637.744744</td>\n",
       "      <td>160453.771288</td>\n",
       "      <td>168960.769231</td>\n",
       "      <td>171120.242721</td>\n",
       "    </tr>\n",
       "    <tr>\n",
       "      <th>1464</th>\n",
       "      <td>185305.147174</td>\n",
       "      <td>184316.942805</td>\n",
       "      <td>189285.738462</td>\n",
       "      <td>186842.049731</td>\n",
       "    </tr>\n",
       "    <tr>\n",
       "      <th>1465</th>\n",
       "      <td>236775.260688</td>\n",
       "      <td>233912.129193</td>\n",
       "      <td>209752.100000</td>\n",
       "      <td>194440.178684</td>\n",
       "    </tr>\n",
       "    <tr>\n",
       "      <th>...</th>\n",
       "      <td>...</td>\n",
       "      <td>...</td>\n",
       "      <td>...</td>\n",
       "      <td>...</td>\n",
       "    </tr>\n",
       "    <tr>\n",
       "      <th>2915</th>\n",
       "      <td>71840.949205</td>\n",
       "      <td>78472.018444</td>\n",
       "      <td>94475.861538</td>\n",
       "      <td>85880.062601</td>\n",
       "    </tr>\n",
       "    <tr>\n",
       "      <th>2916</th>\n",
       "      <td>70058.442798</td>\n",
       "      <td>87909.831418</td>\n",
       "      <td>99761.538462</td>\n",
       "      <td>88736.982758</td>\n",
       "    </tr>\n",
       "    <tr>\n",
       "      <th>2917</th>\n",
       "      <td>146044.050908</td>\n",
       "      <td>150211.736737</td>\n",
       "      <td>159849.230769</td>\n",
       "      <td>160468.728071</td>\n",
       "    </tr>\n",
       "    <tr>\n",
       "      <th>2918</th>\n",
       "      <td>80507.560270</td>\n",
       "      <td>94304.672139</td>\n",
       "      <td>112895.469231</td>\n",
       "      <td>117136.162916</td>\n",
       "    </tr>\n",
       "    <tr>\n",
       "      <th>2919</th>\n",
       "      <td>192906.584335</td>\n",
       "      <td>201836.916444</td>\n",
       "      <td>215617.323077</td>\n",
       "      <td>218459.633393</td>\n",
       "    </tr>\n",
       "  </tbody>\n",
       "</table>\n",
       "<p>1459 rows × 4 columns</p>\n",
       "</div>"
      ],
      "text/plain": [
       "       Pred_test_lm  Pred_test_lmL   Pred_test_rf   Pred_test_GB\n",
       "Id                                                              \n",
       "1461  115725.110756  106514.754662  134577.484615  124905.450171\n",
       "1462  141532.773970  146264.332084  158396.153846  152343.749055\n",
       "1463  164637.744744  160453.771288  168960.769231  171120.242721\n",
       "1464  185305.147174  184316.942805  189285.738462  186842.049731\n",
       "1465  236775.260688  233912.129193  209752.100000  194440.178684\n",
       "...             ...            ...            ...            ...\n",
       "2915   71840.949205   78472.018444   94475.861538   85880.062601\n",
       "2916   70058.442798   87909.831418   99761.538462   88736.982758\n",
       "2917  146044.050908  150211.736737  159849.230769  160468.728071\n",
       "2918   80507.560270   94304.672139  112895.469231  117136.162916\n",
       "2919  192906.584335  201836.916444  215617.323077  218459.633393\n",
       "\n",
       "[1459 rows x 4 columns]"
      ]
     },
     "execution_count": 67,
     "metadata": {},
     "output_type": "execute_result"
    }
   ],
   "source": [
    "df_pred_test"
   ]
  },
  {
   "cell_type": "code",
   "execution_count": 68,
   "id": "67a7cd90",
   "metadata": {
    "execution": {
     "iopub.execute_input": "2022-03-31T15:14:50.667185Z",
     "iopub.status.busy": "2022-03-31T15:14:50.665501Z",
     "iopub.status.idle": "2022-03-31T15:14:50.672183Z",
     "shell.execute_reply": "2022-03-31T15:14:50.672892Z",
     "shell.execute_reply.started": "2022-03-31T15:12:51.284032Z"
    },
    "papermill": {
     "duration": 0.179004,
     "end_time": "2022-03-31T15:14:50.673110",
     "exception": false,
     "start_time": "2022-03-31T15:14:50.494106",
     "status": "completed"
    },
    "tags": []
   },
   "outputs": [
    {
     "data": {
      "text/plain": [
       "Id\n",
       "1461    124905.450171\n",
       "1462    152343.749055\n",
       "1463    171120.242721\n",
       "1464    186842.049731\n",
       "1465    194440.178684\n",
       "            ...      \n",
       "2915     85880.062601\n",
       "2916     88736.982758\n",
       "2917    160468.728071\n",
       "2918    117136.162916\n",
       "2919    218459.633393\n",
       "Name: Pred_test_GB, Length: 1459, dtype: float64"
      ]
     },
     "execution_count": 68,
     "metadata": {},
     "output_type": "execute_result"
    }
   ],
   "source": [
    "df_pred_test['Pred_test_GB']"
   ]
  },
  {
   "cell_type": "code",
   "execution_count": 69,
   "id": "1bd0b334",
   "metadata": {
    "execution": {
     "iopub.execute_input": "2022-03-31T15:14:50.961604Z",
     "iopub.status.busy": "2022-03-31T15:14:50.960710Z",
     "iopub.status.idle": "2022-03-31T15:14:50.965140Z",
     "shell.execute_reply": "2022-03-31T15:14:50.965750Z",
     "shell.execute_reply.started": "2022-03-31T15:12:54.194332Z"
    },
    "papermill": {
     "duration": 0.147957,
     "end_time": "2022-03-31T15:14:50.965941",
     "exception": false,
     "start_time": "2022-03-31T15:14:50.817984",
     "status": "completed"
    },
    "tags": []
   },
   "outputs": [],
   "source": [
    "Pred_test_GB = pd.DataFrame(df_pred_test['Pred_test_GB'])"
   ]
  },
  {
   "cell_type": "code",
   "execution_count": 70,
   "id": "cba13c5d",
   "metadata": {
    "execution": {
     "iopub.execute_input": "2022-03-31T15:14:51.286875Z",
     "iopub.status.busy": "2022-03-31T15:14:51.285949Z",
     "iopub.status.idle": "2022-03-31T15:14:51.297103Z",
     "shell.execute_reply": "2022-03-31T15:14:51.297695Z",
     "shell.execute_reply.started": "2022-03-31T15:12:56.320074Z"
    },
    "papermill": {
     "duration": 0.186369,
     "end_time": "2022-03-31T15:14:51.297872",
     "exception": false,
     "start_time": "2022-03-31T15:14:51.111503",
     "status": "completed"
    },
    "tags": []
   },
   "outputs": [
    {
     "data": {
      "text/html": [
       "<div>\n",
       "<style scoped>\n",
       "    .dataframe tbody tr th:only-of-type {\n",
       "        vertical-align: middle;\n",
       "    }\n",
       "\n",
       "    .dataframe tbody tr th {\n",
       "        vertical-align: top;\n",
       "    }\n",
       "\n",
       "    .dataframe thead th {\n",
       "        text-align: right;\n",
       "    }\n",
       "</style>\n",
       "<table border=\"1\" class=\"dataframe\">\n",
       "  <thead>\n",
       "    <tr style=\"text-align: right;\">\n",
       "      <th></th>\n",
       "      <th>SalePrice</th>\n",
       "    </tr>\n",
       "    <tr>\n",
       "      <th>Id</th>\n",
       "      <th></th>\n",
       "    </tr>\n",
       "  </thead>\n",
       "  <tbody>\n",
       "    <tr>\n",
       "      <th>1461</th>\n",
       "      <td>124905.450171</td>\n",
       "    </tr>\n",
       "    <tr>\n",
       "      <th>1462</th>\n",
       "      <td>152343.749055</td>\n",
       "    </tr>\n",
       "    <tr>\n",
       "      <th>1463</th>\n",
       "      <td>171120.242721</td>\n",
       "    </tr>\n",
       "    <tr>\n",
       "      <th>1464</th>\n",
       "      <td>186842.049731</td>\n",
       "    </tr>\n",
       "    <tr>\n",
       "      <th>1465</th>\n",
       "      <td>194440.178684</td>\n",
       "    </tr>\n",
       "    <tr>\n",
       "      <th>...</th>\n",
       "      <td>...</td>\n",
       "    </tr>\n",
       "    <tr>\n",
       "      <th>2915</th>\n",
       "      <td>85880.062601</td>\n",
       "    </tr>\n",
       "    <tr>\n",
       "      <th>2916</th>\n",
       "      <td>88736.982758</td>\n",
       "    </tr>\n",
       "    <tr>\n",
       "      <th>2917</th>\n",
       "      <td>160468.728071</td>\n",
       "    </tr>\n",
       "    <tr>\n",
       "      <th>2918</th>\n",
       "      <td>117136.162916</td>\n",
       "    </tr>\n",
       "    <tr>\n",
       "      <th>2919</th>\n",
       "      <td>218459.633393</td>\n",
       "    </tr>\n",
       "  </tbody>\n",
       "</table>\n",
       "<p>1459 rows × 1 columns</p>\n",
       "</div>"
      ],
      "text/plain": [
       "          SalePrice\n",
       "Id                 \n",
       "1461  124905.450171\n",
       "1462  152343.749055\n",
       "1463  171120.242721\n",
       "1464  186842.049731\n",
       "1465  194440.178684\n",
       "...             ...\n",
       "2915   85880.062601\n",
       "2916   88736.982758\n",
       "2917  160468.728071\n",
       "2918  117136.162916\n",
       "2919  218459.633393\n",
       "\n",
       "[1459 rows x 1 columns]"
      ]
     },
     "execution_count": 70,
     "metadata": {},
     "output_type": "execute_result"
    }
   ],
   "source": [
    "Pred_test_GB.columns = ['SalePrice']\n",
    "Pred_test_GB"
   ]
  },
  {
   "cell_type": "code",
   "execution_count": 71,
   "id": "9eb398f8",
   "metadata": {
    "execution": {
     "iopub.execute_input": "2022-03-31T15:14:51.577017Z",
     "iopub.status.busy": "2022-03-31T15:14:51.576090Z",
     "iopub.status.idle": "2022-03-31T15:14:51.588901Z",
     "shell.execute_reply": "2022-03-31T15:14:51.589451Z",
     "shell.execute_reply.started": "2022-03-31T15:13:02.597083Z"
    },
    "papermill": {
     "duration": 0.153929,
     "end_time": "2022-03-31T15:14:51.589630",
     "exception": false,
     "start_time": "2022-03-31T15:14:51.435701",
     "status": "completed"
    },
    "tags": []
   },
   "outputs": [],
   "source": [
    "Pred_test_GB.to_csv('Submission.csv')"
   ]
  },
  {
   "cell_type": "code",
   "execution_count": null,
   "id": "5214048c",
   "metadata": {
    "papermill": {
     "duration": 0.138967,
     "end_time": "2022-03-31T15:14:51.870284",
     "exception": false,
     "start_time": "2022-03-31T15:14:51.731317",
     "status": "completed"
    },
    "tags": []
   },
   "outputs": [],
   "source": []
  }
 ],
 "metadata": {
  "kernelspec": {
   "display_name": "Python 3",
   "language": "python",
   "name": "python3"
  },
  "language_info": {
   "codemirror_mode": {
    "name": "ipython",
    "version": 3
   },
   "file_extension": ".py",
   "mimetype": "text/x-python",
   "name": "python",
   "nbconvert_exporter": "python",
   "pygments_lexer": "ipython3",
   "version": "3.7.12"
  },
  "papermill": {
   "default_parameters": {},
   "duration": 96.725618,
   "end_time": "2022-03-31T15:14:53.424332",
   "environment_variables": {},
   "exception": null,
   "input_path": "__notebook__.ipynb",
   "output_path": "__notebook__.ipynb",
   "parameters": {},
   "start_time": "2022-03-31T15:13:16.698714",
   "version": "2.3.3"
  }
 },
 "nbformat": 4,
 "nbformat_minor": 5
}
